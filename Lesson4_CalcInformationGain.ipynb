{
 "cells": [
  {
   "cell_type": "markdown",
   "id": "64e61435",
   "metadata": {},
   "source": [
    "# Uebung Calculation Gain\n",
    "Zu Lesson4 Decision Trees: 16.CalculatingInformationGain"
   ]
  },
  {
   "attachments": {},
   "cell_type": "markdown",
   "id": "28458d93",
   "metadata": {},
   "source": [
    "Unterlagen siehe onenote: \"Lesson4: Decision Trees!\""
   ]
  },
  {
   "cell_type": "markdown",
   "id": "c27e327f",
   "metadata": {},
   "source": [
    "## Aufgabe"
   ]
  },
  {
   "cell_type": "markdown",
   "id": "02bdcea2",
   "metadata": {},
   "source": [
    "Berechne fuer alle moeglichen Splits (Split zwischen Werten innerhalb der Attribute) den Information gain"
   ]
  },
  {
   "cell_type": "markdown",
   "id": "c74eecbe",
   "metadata": {},
   "source": [
    "## Gegeben"
   ]
  },
  {
   "cell_type": "markdown",
   "id": "ccb16fcf",
   "metadata": {},
   "source": [
    "csv-file ml-bugs.csv"
   ]
  },
  {
   "cell_type": "markdown",
   "id": "02f3a01a",
   "metadata": {},
   "source": [
    "Lade csv-File mit 2 Attributen:m"
   ]
  },
  {
   "cell_type": "markdown",
   "id": "84ec7cb2",
   "metadata": {},
   "source": [
    "    Attribut1: Color. Werte: Green, Blue, Green"
   ]
  },
  {
   "cell_type": "markdown",
   "id": "4bc61894",
   "metadata": {},
   "source": [
    "    (Attribut2: Length. Werte: float numbers) -> splitte in Attribut 2a und 2b"
   ]
  },
  {
   "cell_type": "markdown",
   "id": "6c0cb287",
   "metadata": {},
   "source": [
    "    Attribut2a: length<17"
   ]
  },
  {
   "cell_type": "markdown",
   "id": "a05dc870",
   "metadata": {},
   "source": [
    "    Attribut2b: lenght<20"
   ]
  },
  {
   "cell_type": "markdown",
   "id": "7b3cc635",
   "metadata": {},
   "source": [
    "Target: Species: y1=Mobus, y2=Lobgus"
   ]
  },
  {
   "cell_type": "markdown",
   "id": "82f41636",
   "metadata": {},
   "source": [
    "# Algorithmus"
   ]
  },
  {
   "cell_type": "code",
   "execution_count": 9,
   "id": "9e140561",
   "metadata": {},
   "outputs": [],
   "source": [
    "#import numpy\n",
    "import numpy as np\n",
    "import pandas as pd"
   ]
  },
  {
   "cell_type": "markdown",
   "id": "441ed3c0",
   "metadata": {},
   "source": [
    "csv-Datei laden"
   ]
  },
  {
   "cell_type": "code",
   "execution_count": 577,
   "id": "61adf07d",
   "metadata": {},
   "outputs": [
    {
     "data": {
      "text/html": [
       "<div>\n",
       "<style scoped>\n",
       "    .dataframe tbody tr th:only-of-type {\n",
       "        vertical-align: middle;\n",
       "    }\n",
       "\n",
       "    .dataframe tbody tr th {\n",
       "        vertical-align: top;\n",
       "    }\n",
       "\n",
       "    .dataframe thead th {\n",
       "        text-align: right;\n",
       "    }\n",
       "</style>\n",
       "<table border=\"1\" class=\"dataframe\">\n",
       "  <thead>\n",
       "    <tr style=\"text-align: right;\">\n",
       "      <th></th>\n",
       "      <th>Species</th>\n",
       "      <th>Color</th>\n",
       "      <th>Length (mm)</th>\n",
       "    </tr>\n",
       "  </thead>\n",
       "  <tbody>\n",
       "    <tr>\n",
       "      <th>0</th>\n",
       "      <td>Mobug</td>\n",
       "      <td>Brown</td>\n",
       "      <td>11.6</td>\n",
       "    </tr>\n",
       "    <tr>\n",
       "      <th>1</th>\n",
       "      <td>Mobug</td>\n",
       "      <td>Blue</td>\n",
       "      <td>16.3</td>\n",
       "    </tr>\n",
       "    <tr>\n",
       "      <th>2</th>\n",
       "      <td>Lobug</td>\n",
       "      <td>Blue</td>\n",
       "      <td>15.1</td>\n",
       "    </tr>\n",
       "    <tr>\n",
       "      <th>3</th>\n",
       "      <td>Lobug</td>\n",
       "      <td>Green</td>\n",
       "      <td>23.7</td>\n",
       "    </tr>\n",
       "    <tr>\n",
       "      <th>4</th>\n",
       "      <td>Lobug</td>\n",
       "      <td>Blue</td>\n",
       "      <td>18.4</td>\n",
       "    </tr>\n",
       "    <tr>\n",
       "      <th>5</th>\n",
       "      <td>Lobug</td>\n",
       "      <td>Brown</td>\n",
       "      <td>17.1</td>\n",
       "    </tr>\n",
       "    <tr>\n",
       "      <th>6</th>\n",
       "      <td>Mobug</td>\n",
       "      <td>Brown</td>\n",
       "      <td>15.7</td>\n",
       "    </tr>\n",
       "    <tr>\n",
       "      <th>7</th>\n",
       "      <td>Lobug</td>\n",
       "      <td>Green</td>\n",
       "      <td>18.6</td>\n",
       "    </tr>\n",
       "    <tr>\n",
       "      <th>8</th>\n",
       "      <td>Lobug</td>\n",
       "      <td>Blue</td>\n",
       "      <td>22.9</td>\n",
       "    </tr>\n",
       "    <tr>\n",
       "      <th>9</th>\n",
       "      <td>Lobug</td>\n",
       "      <td>Blue</td>\n",
       "      <td>21.0</td>\n",
       "    </tr>\n",
       "    <tr>\n",
       "      <th>10</th>\n",
       "      <td>Lobug</td>\n",
       "      <td>Blue</td>\n",
       "      <td>20.5</td>\n",
       "    </tr>\n",
       "    <tr>\n",
       "      <th>11</th>\n",
       "      <td>Mobug</td>\n",
       "      <td>Green</td>\n",
       "      <td>21.2</td>\n",
       "    </tr>\n",
       "    <tr>\n",
       "      <th>12</th>\n",
       "      <td>Mobug</td>\n",
       "      <td>Brown</td>\n",
       "      <td>13.8</td>\n",
       "    </tr>\n",
       "    <tr>\n",
       "      <th>13</th>\n",
       "      <td>Lobug</td>\n",
       "      <td>Blue</td>\n",
       "      <td>14.5</td>\n",
       "    </tr>\n",
       "    <tr>\n",
       "      <th>14</th>\n",
       "      <td>Lobug</td>\n",
       "      <td>Green</td>\n",
       "      <td>24.8</td>\n",
       "    </tr>\n",
       "    <tr>\n",
       "      <th>15</th>\n",
       "      <td>Mobug</td>\n",
       "      <td>Brown</td>\n",
       "      <td>18.2</td>\n",
       "    </tr>\n",
       "    <tr>\n",
       "      <th>16</th>\n",
       "      <td>Lobug</td>\n",
       "      <td>Green</td>\n",
       "      <td>17.9</td>\n",
       "    </tr>\n",
       "    <tr>\n",
       "      <th>17</th>\n",
       "      <td>Lobug</td>\n",
       "      <td>Green</td>\n",
       "      <td>22.7</td>\n",
       "    </tr>\n",
       "    <tr>\n",
       "      <th>18</th>\n",
       "      <td>Mobug</td>\n",
       "      <td>Green</td>\n",
       "      <td>19.9</td>\n",
       "    </tr>\n",
       "    <tr>\n",
       "      <th>19</th>\n",
       "      <td>Mobug</td>\n",
       "      <td>Blue</td>\n",
       "      <td>14.6</td>\n",
       "    </tr>\n",
       "    <tr>\n",
       "      <th>20</th>\n",
       "      <td>Mobug</td>\n",
       "      <td>Blue</td>\n",
       "      <td>19.2</td>\n",
       "    </tr>\n",
       "    <tr>\n",
       "      <th>21</th>\n",
       "      <td>Lobug</td>\n",
       "      <td>Brown</td>\n",
       "      <td>14.1</td>\n",
       "    </tr>\n",
       "    <tr>\n",
       "      <th>22</th>\n",
       "      <td>Lobug</td>\n",
       "      <td>Green</td>\n",
       "      <td>18.8</td>\n",
       "    </tr>\n",
       "    <tr>\n",
       "      <th>23</th>\n",
       "      <td>Mobug</td>\n",
       "      <td>Blue</td>\n",
       "      <td>13.1</td>\n",
       "    </tr>\n",
       "  </tbody>\n",
       "</table>\n",
       "</div>"
      ],
      "text/plain": [
       "   Species  Color  Length (mm)\n",
       "0    Mobug  Brown         11.6\n",
       "1    Mobug   Blue         16.3\n",
       "2    Lobug   Blue         15.1\n",
       "3    Lobug  Green         23.7\n",
       "4    Lobug   Blue         18.4\n",
       "5    Lobug  Brown         17.1\n",
       "6    Mobug  Brown         15.7\n",
       "7    Lobug  Green         18.6\n",
       "8    Lobug   Blue         22.9\n",
       "9    Lobug   Blue         21.0\n",
       "10   Lobug   Blue         20.5\n",
       "11   Mobug  Green         21.2\n",
       "12   Mobug  Brown         13.8\n",
       "13   Lobug   Blue         14.5\n",
       "14   Lobug  Green         24.8\n",
       "15   Mobug  Brown         18.2\n",
       "16   Lobug  Green         17.9\n",
       "17   Lobug  Green         22.7\n",
       "18   Mobug  Green         19.9\n",
       "19   Mobug   Blue         14.6\n",
       "20   Mobug   Blue         19.2\n",
       "21   Lobug  Brown         14.1\n",
       "22   Lobug  Green         18.8\n",
       "23   Mobug   Blue         13.1"
      ]
     },
     "execution_count": 577,
     "metadata": {},
     "output_type": "execute_result"
    }
   ],
   "source": [
    "df = dfmy = pd.read_csv('C:\\\\ThomasKraemer\\\\OneDrive\\\\03_Programmieren\\\\01_Workspaces\\\\Eclipse\\\\UdacityPyTest2\\\\ml-bugs.csv')\n",
    "df"
   ]
  },
  {
   "cell_type": "markdown",
   "id": "dd6cb46e",
   "metadata": {},
   "source": [
    "Konvertiere nach numpy"
   ]
  },
  {
   "cell_type": "code",
   "execution_count": 578,
   "id": "95603413",
   "metadata": {},
   "outputs": [
    {
     "data": {
      "text/plain": [
       "array(['Mobug', 'Mobug', 'Lobug', 'Lobug', 'Lobug', 'Lobug', 'Mobug',\n",
       "       'Lobug', 'Lobug', 'Lobug', 'Lobug', 'Mobug', 'Mobug', 'Lobug',\n",
       "       'Lobug', 'Mobug', 'Lobug', 'Lobug', 'Mobug', 'Mobug', 'Mobug',\n",
       "       'Lobug', 'Lobug', 'Mobug'], dtype=object)"
      ]
     },
     "execution_count": 578,
     "metadata": {},
     "output_type": "execute_result"
    }
   ],
   "source": [
    "y=df['Species'].to_numpy()\n",
    "y"
   ]
  },
  {
   "cell_type": "code",
   "execution_count": 579,
   "id": "36f07a74",
   "metadata": {},
   "outputs": [
    {
     "data": {
      "text/plain": [
       "array(['Brown', 'Blue', 'Blue', 'Green', 'Blue', 'Brown', 'Brown',\n",
       "       'Green', 'Blue', 'Blue', 'Blue', 'Green', 'Brown', 'Blue', 'Green',\n",
       "       'Brown', 'Green', 'Green', 'Green', 'Blue', 'Blue', 'Brown',\n",
       "       'Green', 'Blue'], dtype=object)"
      ]
     },
     "execution_count": 579,
     "metadata": {},
     "output_type": "execute_result"
    }
   ],
   "source": [
    "color=df['Color'].to_numpy()\n",
    "color"
   ]
  },
  {
   "cell_type": "code",
   "execution_count": 580,
   "id": "e07d7ee8",
   "metadata": {},
   "outputs": [
    {
     "data": {
      "text/plain": [
       "array([11.6, 16.3, 15.1, 23.7, 18.4, 17.1, 15.7, 18.6, 22.9, 21. , 20.5,\n",
       "       21.2, 13.8, 14.5, 24.8, 18.2, 17.9, 22.7, 19.9, 14.6, 19.2, 14.1,\n",
       "       18.8, 13.1])"
      ]
     },
     "execution_count": 580,
     "metadata": {},
     "output_type": "execute_result"
    }
   ],
   "source": [
    "length=df['Length (mm)'].to_numpy()\n",
    "length"
   ]
  },
  {
   "cell_type": "markdown",
   "id": "f845fb9e",
   "metadata": {},
   "source": [
    "## Entropie State0"
   ]
  },
  {
   "cell_type": "code",
   "execution_count": 581,
   "id": "d6033826",
   "metadata": {},
   "outputs": [
    {
     "name": "stdout",
     "output_type": "stream",
     "text": [
      "['Mobug' 'Mobug' 'Mobug' 'Mobug' 'Mobug' 'Mobug' 'Mobug' 'Mobug' 'Mobug'\n",
      " 'Mobug']\n"
     ]
    },
    {
     "data": {
      "text/plain": [
       "10"
      ]
     },
     "execution_count": 581,
     "metadata": {},
     "output_type": "execute_result"
    }
   ],
   "source": [
    "# sumy1 = Summe(y1)\n",
    "helper = y[y=='Mobug']\n",
    "print(helper)\n",
    "sumy1 = helper.size\n",
    "sumy1\n"
   ]
  },
  {
   "cell_type": "code",
   "execution_count": 582,
   "id": "f85f49cb",
   "metadata": {},
   "outputs": [
    {
     "name": "stdout",
     "output_type": "stream",
     "text": [
      "['Lobug' 'Lobug' 'Lobug' 'Lobug' 'Lobug' 'Lobug' 'Lobug' 'Lobug' 'Lobug'\n",
      " 'Lobug' 'Lobug' 'Lobug' 'Lobug' 'Lobug']\n"
     ]
    },
    {
     "data": {
      "text/plain": [
       "14"
      ]
     },
     "execution_count": 582,
     "metadata": {},
     "output_type": "execute_result"
    }
   ],
   "source": [
    "# sumy2 = Summe(y2)\n",
    "helper = y[y=='Lobug']\n",
    "print(helper)\n",
    "sumy2 = helper.size\n",
    "sumy2"
   ]
  },
  {
   "cell_type": "code",
   "execution_count": 583,
   "id": "a2166d86",
   "metadata": {},
   "outputs": [
    {
     "name": "stdout",
     "output_type": "stream",
     "text": [
      "0.4166666666666667\n",
      "0.5833333333333334\n"
     ]
    }
   ],
   "source": [
    "p1 = sumy1/(sumy1+sumy2)\n",
    "p2 = sumy2/(sumy1+sumy2)\n",
    "print(p1)\n",
    "print(p2)"
   ]
  },
  {
   "cell_type": "code",
   "execution_count": 584,
   "id": "113040d2",
   "metadata": {},
   "outputs": [
    {
     "data": {
      "text/plain": [
       "0.9798687566511528"
      ]
     },
     "execution_count": 584,
     "metadata": {},
     "output_type": "execute_result"
    }
   ],
   "source": [
    "E0 = -1*(p1*np.log2(p1)+p2*np.log2(p2))\n",
    "E0"
   ]
  },
  {
   "cell_type": "markdown",
   "id": "26bcddaa",
   "metadata": {},
   "source": [
    "## Entropie Split1"
   ]
  },
  {
   "cell_type": "markdown",
   "id": "229fd7df",
   "metadata": {},
   "source": [
    "### ESplit1Blue"
   ]
  },
  {
   "cell_type": "code",
   "execution_count": 585,
   "id": "95f94cca",
   "metadata": {},
   "outputs": [],
   "source": [
    "y1ones=np.zeros((y.size,1))\n",
    "for i in range(0,y.size) :\n",
    "    if (y[i] == 'Mobug'):\n",
    "       y1ones[i] = 1\n",
    "#print(y1ones)"
   ]
  },
  {
   "cell_type": "code",
   "execution_count": 586,
   "id": "c20e8c10",
   "metadata": {},
   "outputs": [],
   "source": [
    "y2ones=np.zeros((y.size,1))\n",
    "for i in range(0,y.size) :\n",
    "    if (y[i] == 'Lobug'):\n",
    "       y2ones[i] = 1\n",
    "#print(y2ones)"
   ]
  },
  {
   "cell_type": "code",
   "execution_count": 587,
   "id": "d885f412",
   "metadata": {},
   "outputs": [],
   "source": [
    "Blueones=np.zeros((color.size,1))\n",
    "for i in range(0,y.size) :\n",
    "    if (color[i] == 'Blue'):\n",
    "       Blueones[i] = 1\n",
    "#Blueones"
   ]
  },
  {
   "cell_type": "code",
   "execution_count": 588,
   "id": "1f01377a",
   "metadata": {},
   "outputs": [],
   "source": [
    "Greenones=np.zeros((color.size,1))\n",
    "for i in range(0,y.size) :\n",
    "    if (color[i] == 'Green'):\n",
    "       Greenones[i] = 1\n",
    "#Greenones"
   ]
  },
  {
   "cell_type": "code",
   "execution_count": 589,
   "id": "4d8e8236",
   "metadata": {},
   "outputs": [],
   "source": [
    "Brownones=np.zeros((color.size,1))\n",
    "for i in range(0,y.size) :\n",
    "    if (color[i] == 'Brown'):\n",
    "       Brownones[i] = 1\n",
    "#Brownones"
   ]
  },
  {
   "cell_type": "code",
   "execution_count": 590,
   "id": "71bed930",
   "metadata": {},
   "outputs": [
    {
     "data": {
      "text/plain": [
       "array([[4.]])"
      ]
     },
     "execution_count": 590,
     "metadata": {},
     "output_type": "execute_result"
    }
   ],
   "source": [
    "BlueAndy1=np.dot(y1ones.reshape(1,y1ones.size),Blueones.reshape((Blueones.size,1)))\n",
    "BlueAndy1"
   ]
  },
  {
   "cell_type": "code",
   "execution_count": 591,
   "id": "7fdf9560",
   "metadata": {},
   "outputs": [
    {
     "data": {
      "text/plain": [
       "array([[6.]])"
      ]
     },
     "execution_count": 591,
     "metadata": {},
     "output_type": "execute_result"
    }
   ],
   "source": [
    "BlueAndy2=np.dot(y2ones.reshape(1,y2ones.size),Blueones.reshape((Blueones.size,1)))\n",
    "BlueAndy2"
   ]
  },
  {
   "cell_type": "code",
   "execution_count": 592,
   "id": "1e8400d2",
   "metadata": {},
   "outputs": [
    {
     "data": {
      "text/plain": [
       "array([[2.]])"
      ]
     },
     "execution_count": 592,
     "metadata": {},
     "output_type": "execute_result"
    }
   ],
   "source": [
    "GreenAndy1=np.dot(y1ones.reshape(1,y1ones.size),Greenones.reshape((Greenones.size,1)))\n",
    "GreenAndy1"
   ]
  },
  {
   "cell_type": "code",
   "execution_count": 593,
   "id": "d7728b8b",
   "metadata": {},
   "outputs": [
    {
     "data": {
      "text/plain": [
       "array([[6.]])"
      ]
     },
     "execution_count": 593,
     "metadata": {},
     "output_type": "execute_result"
    }
   ],
   "source": [
    "GreenAndy2=np.dot(y2ones.reshape(1,y2ones.size),Greenones.reshape((Greenones.size,1)))\n",
    "GreenAndy2"
   ]
  },
  {
   "cell_type": "code",
   "execution_count": 594,
   "id": "3b98d5d7",
   "metadata": {},
   "outputs": [
    {
     "data": {
      "text/plain": [
       "array([[4.]])"
      ]
     },
     "execution_count": 594,
     "metadata": {},
     "output_type": "execute_result"
    }
   ],
   "source": [
    "BrownAndy1=np.dot(y1ones.reshape(1,y1ones.size),Brownones.reshape((Brownones.size,1)))\n",
    "BrownAndy1"
   ]
  },
  {
   "cell_type": "code",
   "execution_count": 595,
   "id": "55da1755",
   "metadata": {},
   "outputs": [
    {
     "data": {
      "text/plain": [
       "array([[2.]])"
      ]
     },
     "execution_count": 595,
     "metadata": {},
     "output_type": "execute_result"
    }
   ],
   "source": [
    "BrownAndy2=np.dot(y2ones.reshape(1,y2ones.size),Brownones.reshape((Brownones.size,1)))\n",
    "BrownAndy2"
   ]
  },
  {
   "cell_type": "code",
   "execution_count": 596,
   "id": "7c5fc17e",
   "metadata": {},
   "outputs": [
    {
     "data": {
      "text/plain": [
       "0.4"
      ]
     },
     "execution_count": 596,
     "metadata": {},
     "output_type": "execute_result"
    }
   ],
   "source": [
    "p1=np.ndarray.item(BlueAndy1/(BlueAndy1+BlueAndy2))\n",
    "p1"
   ]
  },
  {
   "cell_type": "code",
   "execution_count": 597,
   "id": "e2243bbe",
   "metadata": {},
   "outputs": [
    {
     "data": {
      "text/plain": [
       "0.6"
      ]
     },
     "execution_count": 597,
     "metadata": {},
     "output_type": "execute_result"
    }
   ],
   "source": [
    "p2=np.ndarray.item(BlueAndy2/(BlueAndy1+BlueAndy2))\n",
    "p2"
   ]
  },
  {
   "cell_type": "code",
   "execution_count": 598,
   "id": "bb73c563",
   "metadata": {},
   "outputs": [
    {
     "data": {
      "text/plain": [
       "0.9709505944546686"
      ]
     },
     "execution_count": 598,
     "metadata": {},
     "output_type": "execute_result"
    }
   ],
   "source": [
    "EBlue= -1*(p1*np.log2(p1)+p2*np.log2(p2))\n",
    "EBlue"
   ]
  },
  {
   "cell_type": "code",
   "execution_count": 599,
   "id": "99048186",
   "metadata": {},
   "outputs": [],
   "source": [
    "#Green and Brown"
   ]
  },
  {
   "cell_type": "code",
   "execution_count": 600,
   "id": "e500c065",
   "metadata": {},
   "outputs": [
    {
     "data": {
      "text/plain": [
       "array([[6.]])"
      ]
     },
     "execution_count": 600,
     "metadata": {},
     "output_type": "execute_result"
    }
   ],
   "source": [
    "GreenBrowny1 = GreenAndy1 + BrownAndy1\n",
    "GreenBrowny1"
   ]
  },
  {
   "cell_type": "code",
   "execution_count": 601,
   "id": "998e5128",
   "metadata": {},
   "outputs": [
    {
     "data": {
      "text/plain": [
       "array([[8.]])"
      ]
     },
     "execution_count": 601,
     "metadata": {},
     "output_type": "execute_result"
    }
   ],
   "source": [
    "GreenBrowny2 = GreenAndy2 + BrownAndy2\n",
    "GreenBrowny2"
   ]
  },
  {
   "cell_type": "code",
   "execution_count": 602,
   "id": "b1835da5",
   "metadata": {},
   "outputs": [
    {
     "data": {
      "text/plain": [
       "0.42857142857142855"
      ]
     },
     "execution_count": 602,
     "metadata": {},
     "output_type": "execute_result"
    }
   ],
   "source": [
    "p1=np.ndarray.item(GreenBrowny1/(GreenBrowny1+GreenBrowny2))\n",
    "p1"
   ]
  },
  {
   "cell_type": "code",
   "execution_count": 603,
   "id": "49060295",
   "metadata": {},
   "outputs": [
    {
     "data": {
      "text/plain": [
       "0.5714285714285714"
      ]
     },
     "execution_count": 603,
     "metadata": {},
     "output_type": "execute_result"
    }
   ],
   "source": [
    "p2=np.ndarray.item(GreenBrowny2/(GreenBrowny1+GreenBrowny2))\n",
    "p2"
   ]
  },
  {
   "cell_type": "code",
   "execution_count": 604,
   "id": "9415ae93",
   "metadata": {},
   "outputs": [
    {
     "data": {
      "text/plain": [
       "0.9852281360342515"
      ]
     },
     "execution_count": 604,
     "metadata": {},
     "output_type": "execute_result"
    }
   ],
   "source": [
    "EGreenBrown = -1*(p1*np.log2(p1)+p2*np.log2(p2))\n",
    "EGreenBrown"
   ]
  },
  {
   "cell_type": "code",
   "execution_count": 605,
   "id": "22d06c96",
   "metadata": {},
   "outputs": [
    {
     "data": {
      "text/plain": [
       "0.0017793914066928096"
      ]
     },
     "execution_count": 605,
     "metadata": {},
     "output_type": "execute_result"
    }
   ],
   "source": [
    "IGBlue = E0 - 0.5*(EBlue + EGreenBrown)\n",
    "IGBlue"
   ]
  },
  {
   "cell_type": "code",
   "execution_count": 606,
   "id": "0f8870f9",
   "metadata": {},
   "outputs": [
    {
     "data": {
      "text/plain": [
       "array([[2.]])"
      ]
     },
     "execution_count": 606,
     "metadata": {},
     "output_type": "execute_result"
    }
   ],
   "source": [
    "GreenAndy1"
   ]
  },
  {
   "cell_type": "code",
   "execution_count": 607,
   "id": "843f01f7",
   "metadata": {},
   "outputs": [
    {
     "data": {
      "text/plain": [
       "array([[6.]])"
      ]
     },
     "execution_count": 607,
     "metadata": {},
     "output_type": "execute_result"
    }
   ],
   "source": [
    "GreenAndy2"
   ]
  },
  {
   "cell_type": "code",
   "execution_count": 608,
   "id": "53026f34",
   "metadata": {},
   "outputs": [
    {
     "data": {
      "text/plain": [
       "0.25"
      ]
     },
     "execution_count": 608,
     "metadata": {},
     "output_type": "execute_result"
    }
   ],
   "source": [
    "p1=np.ndarray.item(GreenAndy1/(GreenAndy1+GreenAndy2))\n",
    "p1"
   ]
  },
  {
   "cell_type": "code",
   "execution_count": 609,
   "id": "faab7817",
   "metadata": {},
   "outputs": [
    {
     "data": {
      "text/plain": [
       "0.75"
      ]
     },
     "execution_count": 609,
     "metadata": {},
     "output_type": "execute_result"
    }
   ],
   "source": [
    "p2=np.ndarray.item(GreenAndy2/(GreenAndy1+GreenAndy2))\n",
    "p2"
   ]
  },
  {
   "cell_type": "code",
   "execution_count": 610,
   "id": "daf4ac69",
   "metadata": {},
   "outputs": [
    {
     "data": {
      "text/plain": [
       "0.8112781244591328"
      ]
     },
     "execution_count": 610,
     "metadata": {},
     "output_type": "execute_result"
    }
   ],
   "source": [
    "EGreen= -1*(p1*np.log2(p1)+p2*np.log2(p2))\n",
    "EGreen"
   ]
  },
  {
   "cell_type": "code",
   "execution_count": 611,
   "id": "fa22c6a3",
   "metadata": {},
   "outputs": [
    {
     "data": {
      "text/plain": [
       "array([[6.]])"
      ]
     },
     "execution_count": 611,
     "metadata": {},
     "output_type": "execute_result"
    }
   ],
   "source": [
    "# Blue and Green\n",
    "GreenBlue1 = GreenAndy1 + BlueAndy1\n",
    "GreenBlue1"
   ]
  },
  {
   "cell_type": "code",
   "execution_count": 612,
   "id": "43e527f9",
   "metadata": {},
   "outputs": [
    {
     "data": {
      "text/plain": [
       "array([[12.]])"
      ]
     },
     "execution_count": 612,
     "metadata": {},
     "output_type": "execute_result"
    }
   ],
   "source": [
    "GreenBlue2 = GreenAndy2 + BlueAndy2\n",
    "GreenBlue2"
   ]
  },
  {
   "cell_type": "code",
   "execution_count": 613,
   "id": "f8db8abb",
   "metadata": {},
   "outputs": [
    {
     "data": {
      "text/plain": [
       "0.3333333333333333"
      ]
     },
     "execution_count": 613,
     "metadata": {},
     "output_type": "execute_result"
    }
   ],
   "source": [
    "p1=np.ndarray.item(GreenBlue1/(GreenBlue1+GreenBlue2))\n",
    "p1"
   ]
  },
  {
   "cell_type": "code",
   "execution_count": 614,
   "id": "bd4438f1",
   "metadata": {},
   "outputs": [
    {
     "data": {
      "text/plain": [
       "0.6666666666666666"
      ]
     },
     "execution_count": 614,
     "metadata": {},
     "output_type": "execute_result"
    }
   ],
   "source": [
    "p2=np.ndarray.item(GreenBlue2/(GreenBlue1+GreenBlue2))\n",
    "p2"
   ]
  },
  {
   "cell_type": "code",
   "execution_count": 615,
   "id": "65575a6d",
   "metadata": {},
   "outputs": [
    {
     "data": {
      "text/plain": [
       "0.9182958340544896"
      ]
     },
     "execution_count": 615,
     "metadata": {},
     "output_type": "execute_result"
    }
   ],
   "source": [
    "EGreenBlue = -1*(p1*np.log2(p1)+p2*np.log2(p2))\n",
    "EGreenBlue"
   ]
  },
  {
   "cell_type": "code",
   "execution_count": 616,
   "id": "803df52e",
   "metadata": {},
   "outputs": [
    {
     "data": {
      "text/plain": [
       "0.6666666666666666"
      ]
     },
     "execution_count": 616,
     "metadata": {},
     "output_type": "execute_result"
    }
   ],
   "source": [
    "p1=np.ndarray.item(BrownAndy1/(BrownAndy1+BrownAndy2))\n",
    "p1"
   ]
  },
  {
   "cell_type": "code",
   "execution_count": 617,
   "id": "a4f936fd",
   "metadata": {},
   "outputs": [
    {
     "data": {
      "text/plain": [
       "0.3333333333333333"
      ]
     },
     "execution_count": 617,
     "metadata": {},
     "output_type": "execute_result"
    }
   ],
   "source": [
    "p2=np.ndarray.item(BrownAndy2/(BrownAndy1+BrownAndy2))\n",
    "p2"
   ]
  },
  {
   "cell_type": "code",
   "execution_count": 618,
   "id": "192b426e",
   "metadata": {},
   "outputs": [
    {
     "data": {
      "text/plain": [
       "0.9182958340544896"
      ]
     },
     "execution_count": 618,
     "metadata": {},
     "output_type": "execute_result"
    }
   ],
   "source": [
    "EBrown= -1*(p1*np.log2(p1)+p2*np.log2(p2))\n",
    "EBrown"
   ]
  },
  {
   "cell_type": "code",
   "execution_count": 619,
   "id": "665c793e",
   "metadata": {},
   "outputs": [
    {
     "data": {
      "text/plain": [
       "0.06157292259666325"
      ]
     },
     "execution_count": 619,
     "metadata": {},
     "output_type": "execute_result"
    }
   ],
   "source": [
    "IGBrown = E0 - 0.5*(EBrown + EGreenBlue)\n",
    "IGBrown"
   ]
  },
  {
   "cell_type": "code",
   "execution_count": 620,
   "id": "70d039f4",
   "metadata": {},
   "outputs": [
    {
     "data": {
      "text/plain": [
       "array([[8.]])"
      ]
     },
     "execution_count": 620,
     "metadata": {},
     "output_type": "execute_result"
    }
   ],
   "source": [
    "# Blue and Green\n",
    "BrownBlue1 = BrownAndy1 + BlueAndy1\n",
    "BrownBlue1"
   ]
  },
  {
   "cell_type": "code",
   "execution_count": 621,
   "id": "656d4bbb",
   "metadata": {},
   "outputs": [
    {
     "data": {
      "text/plain": [
       "array([[8.]])"
      ]
     },
     "execution_count": 621,
     "metadata": {},
     "output_type": "execute_result"
    }
   ],
   "source": [
    "BrownBlue2 = BrownAndy2 + BlueAndy2\n",
    "BrownBlue2"
   ]
  },
  {
   "cell_type": "code",
   "execution_count": 622,
   "id": "adcc0c1b",
   "metadata": {},
   "outputs": [
    {
     "data": {
      "text/plain": [
       "0.5"
      ]
     },
     "execution_count": 622,
     "metadata": {},
     "output_type": "execute_result"
    }
   ],
   "source": [
    "p1=np.ndarray.item(BrownBlue1/(BrownBlue1+BrownBlue2))\n",
    "p1"
   ]
  },
  {
   "cell_type": "code",
   "execution_count": 623,
   "id": "41168a7c",
   "metadata": {},
   "outputs": [
    {
     "data": {
      "text/plain": [
       "0.5"
      ]
     },
     "execution_count": 623,
     "metadata": {},
     "output_type": "execute_result"
    }
   ],
   "source": [
    "p2=np.ndarray.item(BrownBlue2/(BrownBlue1+BrownBlue2))\n",
    "p2"
   ]
  },
  {
   "cell_type": "code",
   "execution_count": 624,
   "id": "4cba09c4",
   "metadata": {},
   "outputs": [
    {
     "data": {
      "text/plain": [
       "1.0"
      ]
     },
     "execution_count": 624,
     "metadata": {},
     "output_type": "execute_result"
    }
   ],
   "source": [
    "EBrownBlue = -1*(p1*np.log2(p1)+p2*np.log2(p2))\n",
    "EBrownBlue"
   ]
  },
  {
   "cell_type": "code",
   "execution_count": 625,
   "id": "a02de872",
   "metadata": {},
   "outputs": [
    {
     "data": {
      "text/plain": [
       "0.07422969442158633"
      ]
     },
     "execution_count": 625,
     "metadata": {},
     "output_type": "execute_result"
    }
   ],
   "source": [
    "IGGreen = E0 - 0.5*(EGreen + EBrownBlue)\n",
    "IGGreen"
   ]
  },
  {
   "cell_type": "markdown",
   "id": "f9e0b99a",
   "metadata": {},
   "source": [
    "## Y2"
   ]
  },
  {
   "cell_type": "code",
   "execution_count": 626,
   "id": "0fc1abf3",
   "metadata": {},
   "outputs": [
    {
     "data": {
      "text/plain": [
       "array([11.6, 16.3, 15.1, 23.7, 18.4, 17.1, 15.7, 18.6, 22.9, 21. , 20.5,\n",
       "       21.2, 13.8, 14.5, 24.8, 18.2, 17.9, 22.7, 19.9, 14.6, 19.2, 14.1,\n",
       "       18.8, 13.1])"
      ]
     },
     "execution_count": 626,
     "metadata": {},
     "output_type": "execute_result"
    }
   ],
   "source": [
    "length"
   ]
  },
  {
   "cell_type": "code",
   "execution_count": 627,
   "id": "009ff249",
   "metadata": {},
   "outputs": [],
   "source": [
    "SmallY1nones=np.zeros((color.size,1))\n",
    "for i in range(0,y.size) :\n",
    "    if (y[i] == 'Mobug') & (length[i]<17):\n",
    "       SmallY1nones[i] = 1\n",
    "#SmallY1nones"
   ]
  },
  {
   "cell_type": "code",
   "execution_count": 628,
   "id": "3faf48f6",
   "metadata": {},
   "outputs": [
    {
     "data": {
      "text/plain": [
       "6.0"
      ]
     },
     "execution_count": 628,
     "metadata": {},
     "output_type": "execute_result"
    }
   ],
   "source": [
    "SmallY1Sum = SmallY1nones.sum()\n",
    "SmallY1Sum"
   ]
  },
  {
   "cell_type": "code",
   "execution_count": 629,
   "id": "02e7297d",
   "metadata": {},
   "outputs": [],
   "source": [
    "SmallY2nones=np.zeros((color.size,1))\n",
    "for i in range(0,y.size) :\n",
    "    if (y[i] == 'Lobug') & (length[i]<17):\n",
    "       SmallY2nones[i] = 1\n",
    "#SmallY2nones"
   ]
  },
  {
   "cell_type": "code",
   "execution_count": 630,
   "id": "42c59d15",
   "metadata": {},
   "outputs": [
    {
     "data": {
      "text/plain": [
       "3.0"
      ]
     },
     "execution_count": 630,
     "metadata": {},
     "output_type": "execute_result"
    }
   ],
   "source": [
    "SmallY2Sum = SmallY2nones.sum()\n",
    "SmallY2Sum"
   ]
  },
  {
   "cell_type": "code",
   "execution_count": 631,
   "id": "3eddd309",
   "metadata": {},
   "outputs": [],
   "source": [
    "p1=SmallY1Sum/(SmallY1Sum + SmallY2Sum)"
   ]
  },
  {
   "cell_type": "code",
   "execution_count": 632,
   "id": "53675019",
   "metadata": {},
   "outputs": [],
   "source": [
    "p2=SmallY2Sum/(SmallY1Sum + SmallY2Sum)"
   ]
  },
  {
   "cell_type": "code",
   "execution_count": 633,
   "id": "f489ecbc",
   "metadata": {},
   "outputs": [
    {
     "data": {
      "text/plain": [
       "0.9182958340544896"
      ]
     },
     "execution_count": 633,
     "metadata": {},
     "output_type": "execute_result"
    }
   ],
   "source": [
    "ESmall = -1*(p1*np.log2(p1)+p2*np.log2(p2))\n",
    "ESmall"
   ]
  },
  {
   "cell_type": "code",
   "execution_count": 634,
   "id": "21e8fd95",
   "metadata": {},
   "outputs": [],
   "source": [
    "SmallY1nonesRest=np.zeros((color.size,1))\n",
    "for i in range(0,y.size) :\n",
    "    if (y[i] == 'Mobug') & (length[i]>17):\n",
    "       SmallY1nonesRest[i] = 1\n",
    "#SmallY1nonesRest"
   ]
  },
  {
   "cell_type": "code",
   "execution_count": 635,
   "id": "3c5771bc",
   "metadata": {},
   "outputs": [
    {
     "data": {
      "text/plain": [
       "4.0"
      ]
     },
     "execution_count": 635,
     "metadata": {},
     "output_type": "execute_result"
    }
   ],
   "source": [
    "SmallY1SumRest = SmallY1nonesRest.sum()\n",
    "SmallY1SumRest"
   ]
  },
  {
   "cell_type": "code",
   "execution_count": 636,
   "id": "7ff85ef4",
   "metadata": {},
   "outputs": [],
   "source": [
    "SmallY2nonesRest=np.zeros((color.size,1))\n",
    "for i in range(0,y.size) :\n",
    "    if (y[i] == 'Lobug') & (length[i]>17):\n",
    "       SmallY2nonesRest[i] = 1\n",
    "#SmallY2nonesRest"
   ]
  },
  {
   "cell_type": "code",
   "execution_count": 637,
   "id": "1f971418",
   "metadata": {},
   "outputs": [
    {
     "data": {
      "text/plain": [
       "11.0"
      ]
     },
     "execution_count": 637,
     "metadata": {},
     "output_type": "execute_result"
    }
   ],
   "source": [
    "SmallY2SumRest = SmallY2nonesRest.sum()\n",
    "SmallY2SumRest"
   ]
  },
  {
   "cell_type": "code",
   "execution_count": 638,
   "id": "097d28af",
   "metadata": {},
   "outputs": [],
   "source": [
    "p1=SmallY1SumRest/(SmallY1SumRest + SmallY2SumRest)"
   ]
  },
  {
   "cell_type": "code",
   "execution_count": 639,
   "id": "dfe322df",
   "metadata": {},
   "outputs": [],
   "source": [
    "p2=SmallY2SumRest/(SmallY1SumRest + SmallY2SumRest)"
   ]
  },
  {
   "cell_type": "code",
   "execution_count": 554,
   "id": "ad417794",
   "metadata": {},
   "outputs": [
    {
     "data": {
      "text/plain": [
       "0.8366407419411672"
      ]
     },
     "execution_count": 554,
     "metadata": {},
     "output_type": "execute_result"
    }
   ],
   "source": [
    "ESmallRest = -1*(p1*np.log2(p1)+p2*np.log2(p2))\n",
    "ESmallRest"
   ]
  },
  {
   "cell_type": "code",
   "execution_count": 555,
   "id": "23aefc1e",
   "metadata": {},
   "outputs": [
    {
     "data": {
      "text/plain": [
       "0.10240046865332442"
      ]
     },
     "execution_count": 555,
     "metadata": {},
     "output_type": "execute_result"
    }
   ],
   "source": [
    "IGSmall = E0 - 0.5* (ESmall+ESmallRest)\n",
    "IGSmall"
   ]
  },
  {
   "cell_type": "code",
   "execution_count": 556,
   "id": "8304eb06",
   "metadata": {},
   "outputs": [
    {
     "data": {
      "text/plain": [
       "0.9798687566511528"
      ]
     },
     "execution_count": 556,
     "metadata": {},
     "output_type": "execute_result"
    }
   ],
   "source": [
    "E0"
   ]
  },
  {
   "cell_type": "code",
   "execution_count": null,
   "id": "78e7f822",
   "metadata": {},
   "outputs": [],
   "source": []
  },
  {
   "cell_type": "code",
   "execution_count": 557,
   "id": "c527b8d0",
   "metadata": {},
   "outputs": [],
   "source": [
    "BigY1nones=np.zeros((color.size,1))\n",
    "for i in range(0,y.size) :\n",
    "    if (y[i] == 'Mobug') & (length[i]<20):\n",
    "       BigY1nones[i] = 1\n",
    "#BigY1nones"
   ]
  },
  {
   "cell_type": "code",
   "execution_count": 558,
   "id": "da42505e",
   "metadata": {},
   "outputs": [
    {
     "data": {
      "text/plain": [
       "6.0"
      ]
     },
     "execution_count": 558,
     "metadata": {},
     "output_type": "execute_result"
    }
   ],
   "source": [
    "BigY1Sum = SmallY1nones.sum()\n",
    "BigY1Sum"
   ]
  },
  {
   "cell_type": "code",
   "execution_count": 559,
   "id": "76a5587a",
   "metadata": {},
   "outputs": [
    {
     "data": {
      "text/plain": [
       "array([[0.],\n",
       "       [0.],\n",
       "       [1.],\n",
       "       [0.],\n",
       "       [1.],\n",
       "       [1.],\n",
       "       [0.],\n",
       "       [1.],\n",
       "       [0.],\n",
       "       [0.],\n",
       "       [0.],\n",
       "       [0.],\n",
       "       [0.],\n",
       "       [1.],\n",
       "       [0.],\n",
       "       [0.],\n",
       "       [1.],\n",
       "       [0.],\n",
       "       [0.],\n",
       "       [0.],\n",
       "       [0.],\n",
       "       [1.],\n",
       "       [1.],\n",
       "       [0.]])"
      ]
     },
     "execution_count": 559,
     "metadata": {},
     "output_type": "execute_result"
    }
   ],
   "source": [
    "BigY2nones=np.zeros((color.size,1))\n",
    "for i in range(0,y.size) :\n",
    "    if (y[i] == 'Lobug') & (length[i]<20):\n",
    "       BigY2nones[i] = 1\n",
    "BigY2nones"
   ]
  },
  {
   "cell_type": "code",
   "execution_count": 560,
   "id": "e9637724",
   "metadata": {},
   "outputs": [
    {
     "data": {
      "text/plain": [
       "3.0"
      ]
     },
     "execution_count": 560,
     "metadata": {},
     "output_type": "execute_result"
    }
   ],
   "source": [
    "BigY2Sum = SmallY2nones.sum()\n",
    "BigY2Sum"
   ]
  },
  {
   "cell_type": "markdown",
   "id": "6d7132ba",
   "metadata": {},
   "source": [
    "IGSmall = ? "
   ]
  },
  {
   "cell_type": "code",
   "execution_count": 561,
   "id": "8f495f2e",
   "metadata": {},
   "outputs": [
    {
     "data": {
      "text/plain": [
       "array([[0.],\n",
       "       [0.],\n",
       "       [0.],\n",
       "       [0.],\n",
       "       [0.],\n",
       "       [0.],\n",
       "       [0.],\n",
       "       [0.],\n",
       "       [0.],\n",
       "       [0.],\n",
       "       [0.],\n",
       "       [1.],\n",
       "       [0.],\n",
       "       [0.],\n",
       "       [0.],\n",
       "       [0.],\n",
       "       [0.],\n",
       "       [0.],\n",
       "       [0.],\n",
       "       [0.],\n",
       "       [0.],\n",
       "       [0.],\n",
       "       [0.],\n",
       "       [0.]])"
      ]
     },
     "execution_count": 561,
     "metadata": {},
     "output_type": "execute_result"
    }
   ],
   "source": [
    "BigY1nonesRest=np.zeros((color.size,1))\n",
    "for i in range(0,y.size) :\n",
    "    if (y[i] == 'Mobug') & (length[i]>20):\n",
    "       BigY1nonesRest[i] = 1\n",
    "BigY1nonesRest"
   ]
  },
  {
   "cell_type": "code",
   "execution_count": 562,
   "id": "defb84d4",
   "metadata": {},
   "outputs": [
    {
     "data": {
      "text/plain": [
       "1.0"
      ]
     },
     "execution_count": 562,
     "metadata": {},
     "output_type": "execute_result"
    }
   ],
   "source": [
    "BigY1SumRest = BigY1nonesRest.sum()\n",
    "BigY1SumRest"
   ]
  },
  {
   "cell_type": "code",
   "execution_count": 563,
   "id": "841afd1b",
   "metadata": {},
   "outputs": [
    {
     "data": {
      "text/plain": [
       "array([[0.],\n",
       "       [0.],\n",
       "       [0.],\n",
       "       [1.],\n",
       "       [0.],\n",
       "       [0.],\n",
       "       [0.],\n",
       "       [0.],\n",
       "       [1.],\n",
       "       [1.],\n",
       "       [1.],\n",
       "       [0.],\n",
       "       [0.],\n",
       "       [0.],\n",
       "       [1.],\n",
       "       [0.],\n",
       "       [0.],\n",
       "       [1.],\n",
       "       [0.],\n",
       "       [0.],\n",
       "       [0.],\n",
       "       [0.],\n",
       "       [0.],\n",
       "       [0.]])"
      ]
     },
     "execution_count": 563,
     "metadata": {},
     "output_type": "execute_result"
    }
   ],
   "source": [
    "BigY2nonesRest=np.zeros((color.size,1))\n",
    "for i in range(0,y.size) :\n",
    "    if (y[i] == 'Lobug') & (length[i]>20):\n",
    "       BigY2nonesRest[i] = 1\n",
    "BigY2nonesRest"
   ]
  },
  {
   "cell_type": "code",
   "execution_count": 564,
   "id": "853e0848",
   "metadata": {},
   "outputs": [
    {
     "data": {
      "text/plain": [
       "6.0"
      ]
     },
     "execution_count": 564,
     "metadata": {},
     "output_type": "execute_result"
    }
   ],
   "source": [
    "BigY2SumRest = BigY2nonesRest.sum()\n",
    "BigY2SumRest"
   ]
  },
  {
   "cell_type": "code",
   "execution_count": 565,
   "id": "a532be88",
   "metadata": {},
   "outputs": [],
   "source": [
    "p1=BigY1Sum/(BigY1Sum + BigY2Sum)"
   ]
  },
  {
   "cell_type": "code",
   "execution_count": 566,
   "id": "a884e1f8",
   "metadata": {},
   "outputs": [],
   "source": [
    "p2=BigY2Sum/(BigY1Sum + BigY2Sum)"
   ]
  },
  {
   "cell_type": "code",
   "execution_count": 567,
   "id": "519067e8",
   "metadata": {},
   "outputs": [
    {
     "data": {
      "text/plain": [
       "0.9182958340544896"
      ]
     },
     "execution_count": 567,
     "metadata": {},
     "output_type": "execute_result"
    }
   ],
   "source": [
    "EBig = -1*(p1*np.log2(p1)+p2*np.log2(p2))\n",
    "EBig"
   ]
  },
  {
   "cell_type": "code",
   "execution_count": 568,
   "id": "68a289bc",
   "metadata": {},
   "outputs": [],
   "source": [
    "p1=BigY1SumRest/(BigY1SumRest + BigY2SumRest)"
   ]
  },
  {
   "cell_type": "code",
   "execution_count": 569,
   "id": "e595bb04",
   "metadata": {},
   "outputs": [],
   "source": [
    "p2=BigY2SumRest/(BigY1SumRest + BigY2SumRest)"
   ]
  },
  {
   "cell_type": "code",
   "execution_count": 570,
   "id": "8cf24738",
   "metadata": {},
   "outputs": [
    {
     "data": {
      "text/plain": [
       "0.5916727785823275"
      ]
     },
     "execution_count": 570,
     "metadata": {},
     "output_type": "execute_result"
    }
   ],
   "source": [
    "EBigRest = -1*(p1*np.log2(p1)+p2*np.log2(p2))\n",
    "EBigRest"
   ]
  },
  {
   "cell_type": "code",
   "execution_count": 571,
   "id": "04409ac4",
   "metadata": {},
   "outputs": [
    {
     "data": {
      "text/plain": [
       "0.2248844503327443"
      ]
     },
     "execution_count": 571,
     "metadata": {},
     "output_type": "execute_result"
    }
   ],
   "source": [
    "IGBig = E0 - 0.5*(EBig+EBigRest)\n",
    "IGBig"
   ]
  },
  {
   "cell_type": "code",
   "execution_count": 572,
   "id": "ecd340f2",
   "metadata": {},
   "outputs": [
    {
     "data": {
      "text/plain": [
       "4.0"
      ]
     },
     "execution_count": 572,
     "metadata": {},
     "output_type": "execute_result"
    }
   ],
   "source": [
    "BlueonesAndY1=np.zeros((color.size,1))\n",
    "for i in range(0,y.size) :\n",
    "    if (color[i] == 'Blue') & (y[i]=='Mobug'):\n",
    "       BlueonesAndY1[i] = 1\n",
    "BlueonesAndY1Sum = BlueonesAndY1.sum()\n",
    "BlueonesAndY1Sum"
   ]
  },
  {
   "cell_type": "code",
   "execution_count": 573,
   "id": "8fb6ab9b",
   "metadata": {},
   "outputs": [
    {
     "data": {
      "text/plain": [
       "2.0"
      ]
     },
     "execution_count": 573,
     "metadata": {},
     "output_type": "execute_result"
    }
   ],
   "source": [
    "GreenonesAndY1=np.zeros((color.size,1))\n",
    "for i in range(0,y.size) :\n",
    "    if (color[i] == 'Green') & (y[i]=='Mobug'):\n",
    "       GreenonesAndY1[i] = 1\n",
    "GreenonesAndY1Sum = GreenonesAndY1.sum()\n",
    "GreenonesAndY1Sum"
   ]
  },
  {
   "cell_type": "code",
   "execution_count": 574,
   "id": "6049f892",
   "metadata": {},
   "outputs": [
    {
     "data": {
      "text/plain": [
       "6.0"
      ]
     },
     "execution_count": 574,
     "metadata": {},
     "output_type": "execute_result"
    }
   ],
   "source": [
    "GreenonesAndY2=np.zeros((color.size,1))\n",
    "for i in range(0,y.size) :\n",
    "    if (color[i] == 'Green') & (y[i]=='Lobug'):\n",
    "       GreenonesAndY2[i] = 1\n",
    "GreenonesAndY2Sum = GreenonesAndY2.sum()\n",
    "GreenonesAndY2Sum"
   ]
  },
  {
   "cell_type": "code",
   "execution_count": 575,
   "id": "3b1a44be",
   "metadata": {},
   "outputs": [
    {
     "data": {
      "text/plain": [
       "4.0"
      ]
     },
     "execution_count": 575,
     "metadata": {},
     "output_type": "execute_result"
    }
   ],
   "source": [
    "BrownonesAndY1=np.zeros((color.size,1))\n",
    "for i in range(0,y.size) :\n",
    "    if (color[i] == 'Brown') & (y[i]=='Mobug'):\n",
    "       BrownonesAndY1[i] = 1\n",
    "BrownonesAndY1Sum = BrownonesAndY1.sum()\n",
    "BrownonesAndY1Sum"
   ]
  },
  {
   "cell_type": "code",
   "execution_count": 576,
   "id": "4a14f5f4",
   "metadata": {},
   "outputs": [
    {
     "data": {
      "text/plain": [
       "2.0"
      ]
     },
     "execution_count": 576,
     "metadata": {},
     "output_type": "execute_result"
    }
   ],
   "source": [
    "BrownonesAndY2=np.zeros((color.size,1))\n",
    "for i in range(0,y.size) :\n",
    "    if (color[i] == 'Brown') & (y[i]=='Lobug'):\n",
    "       BrownonesAndY2[i] = 1\n",
    "BrownonesAndY2Sum = BrownonesAndY2.sum()\n",
    "BrownonesAndY2Sum"
   ]
  },
  {
   "cell_type": "code",
   "execution_count": null,
   "id": "94f636f2",
   "metadata": {},
   "outputs": [],
   "source": []
  },
  {
   "cell_type": "code",
   "execution_count": null,
   "id": "bb1b2fe7",
   "metadata": {},
   "outputs": [],
   "source": []
  }
 ],
 "metadata": {
  "kernelspec": {
   "display_name": "Python 3",
   "language": "python",
   "name": "python3"
  },
  "language_info": {
   "codemirror_mode": {
    "name": "ipython",
    "version": 3
   },
   "file_extension": ".py",
   "mimetype": "text/x-python",
   "name": "python",
   "nbconvert_exporter": "python",
   "pygments_lexer": "ipython3",
   "version": "3.8.8"
  }
 },
 "nbformat": 4,
 "nbformat_minor": 5
}
