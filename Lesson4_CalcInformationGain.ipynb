{
 "cells": [
  {
   "cell_type": "markdown",
   "id": "b5948863",
   "metadata": {},
   "source": [
    "# Uebung Calculation Gain\n",
    "Zu Lesson4 Decision Trees: 16.CalculatingInformationGain"
   ]
  },
  {
   "attachments": {},
   "cell_type": "markdown",
   "id": "3c4e01bd",
   "metadata": {},
   "source": [
    "Unterlagen siehe onenote: \"Lesson4: Decision Trees!\""
   ]
  },
  {
   "cell_type": "markdown",
   "id": "0fd6bce3",
   "metadata": {},
   "source": [
    "## Aufgabe"
   ]
  },
  {
   "cell_type": "markdown",
   "id": "db25909f",
   "metadata": {},
   "source": [
    "Berechne fuer alle moeglichen Splits (Split zwischen Werten innerhalb der Attribute) den Information gain"
   ]
  },
  {
   "cell_type": "markdown",
   "id": "256e4ed3",
   "metadata": {},
   "source": [
    "## Gegeben"
   ]
  },
  {
   "cell_type": "markdown",
   "id": "0cc37d81",
   "metadata": {},
   "source": [
    "csv-file ml-bugs.csv"
   ]
  },
  {
   "cell_type": "markdown",
   "id": "65aec7bc",
   "metadata": {},
   "source": [
    "Lade csv-File mit 2 Attributen:m"
   ]
  },
  {
   "cell_type": "markdown",
   "id": "7bee9deb",
   "metadata": {},
   "source": [
    "    Attribut1: Color. Werte: Green, Blue, Green"
   ]
  },
  {
   "cell_type": "markdown",
   "id": "bf2458a0",
   "metadata": {},
   "source": [
    "    (Attribut2: Length. Werte: float numbers) -> splitte in Attribut 2a und 2b"
   ]
  },
  {
   "cell_type": "markdown",
   "id": "5c65ab96",
   "metadata": {},
   "source": [
    "    Attribut2a: length<17"
   ]
  },
  {
   "cell_type": "markdown",
   "id": "98935e25",
   "metadata": {},
   "source": [
    "    Attribut2b: lenght<20"
   ]
  },
  {
   "cell_type": "markdown",
   "id": "ccb31999",
   "metadata": {},
   "source": [
    "Target: Species: y1=Mobus, y2=Lobgus"
   ]
  },
  {
   "cell_type": "markdown",
   "id": "d9409848",
   "metadata": {},
   "source": [
    "# Algorithmus"
   ]
  },
  {
   "cell_type": "code",
   "execution_count": 9,
   "id": "2d63a724",
   "metadata": {},
   "outputs": [],
   "source": [
    "#import numpy\n",
    "import numpy as np\n",
    "import pandas as pd"
   ]
  },
  {
   "cell_type": "markdown",
   "id": "081645f4",
   "metadata": {},
   "source": [
    "csv-Datei laden"
   ]
  },
  {
   "cell_type": "code",
   "execution_count": 12,
   "id": "e94819a9",
   "metadata": {},
   "outputs": [
    {
     "data": {
      "text/html": [
       "<div>\n",
       "<style scoped>\n",
       "    .dataframe tbody tr th:only-of-type {\n",
       "        vertical-align: middle;\n",
       "    }\n",
       "\n",
       "    .dataframe tbody tr th {\n",
       "        vertical-align: top;\n",
       "    }\n",
       "\n",
       "    .dataframe thead th {\n",
       "        text-align: right;\n",
       "    }\n",
       "</style>\n",
       "<table border=\"1\" class=\"dataframe\">\n",
       "  <thead>\n",
       "    <tr style=\"text-align: right;\">\n",
       "      <th></th>\n",
       "      <th>Species</th>\n",
       "      <th>Color</th>\n",
       "      <th>Length (mm)</th>\n",
       "    </tr>\n",
       "  </thead>\n",
       "  <tbody>\n",
       "    <tr>\n",
       "      <th>0</th>\n",
       "      <td>Mobug</td>\n",
       "      <td>Brown</td>\n",
       "      <td>11.6</td>\n",
       "    </tr>\n",
       "    <tr>\n",
       "      <th>1</th>\n",
       "      <td>Mobug</td>\n",
       "      <td>Blue</td>\n",
       "      <td>16.3</td>\n",
       "    </tr>\n",
       "    <tr>\n",
       "      <th>2</th>\n",
       "      <td>Lobug</td>\n",
       "      <td>Blue</td>\n",
       "      <td>15.1</td>\n",
       "    </tr>\n",
       "    <tr>\n",
       "      <th>3</th>\n",
       "      <td>Lobug</td>\n",
       "      <td>Green</td>\n",
       "      <td>23.7</td>\n",
       "    </tr>\n",
       "    <tr>\n",
       "      <th>4</th>\n",
       "      <td>Lobug</td>\n",
       "      <td>Blue</td>\n",
       "      <td>18.4</td>\n",
       "    </tr>\n",
       "    <tr>\n",
       "      <th>5</th>\n",
       "      <td>Lobug</td>\n",
       "      <td>Brown</td>\n",
       "      <td>17.1</td>\n",
       "    </tr>\n",
       "    <tr>\n",
       "      <th>6</th>\n",
       "      <td>Mobug</td>\n",
       "      <td>Brown</td>\n",
       "      <td>15.7</td>\n",
       "    </tr>\n",
       "    <tr>\n",
       "      <th>7</th>\n",
       "      <td>Lobug</td>\n",
       "      <td>Green</td>\n",
       "      <td>18.6</td>\n",
       "    </tr>\n",
       "    <tr>\n",
       "      <th>8</th>\n",
       "      <td>Lobug</td>\n",
       "      <td>Blue</td>\n",
       "      <td>22.9</td>\n",
       "    </tr>\n",
       "    <tr>\n",
       "      <th>9</th>\n",
       "      <td>Lobug</td>\n",
       "      <td>Blue</td>\n",
       "      <td>21.0</td>\n",
       "    </tr>\n",
       "    <tr>\n",
       "      <th>10</th>\n",
       "      <td>Lobug</td>\n",
       "      <td>Blue</td>\n",
       "      <td>20.5</td>\n",
       "    </tr>\n",
       "    <tr>\n",
       "      <th>11</th>\n",
       "      <td>Mobug</td>\n",
       "      <td>Green</td>\n",
       "      <td>21.2</td>\n",
       "    </tr>\n",
       "    <tr>\n",
       "      <th>12</th>\n",
       "      <td>Mobug</td>\n",
       "      <td>Brown</td>\n",
       "      <td>13.8</td>\n",
       "    </tr>\n",
       "    <tr>\n",
       "      <th>13</th>\n",
       "      <td>Lobug</td>\n",
       "      <td>Blue</td>\n",
       "      <td>14.5</td>\n",
       "    </tr>\n",
       "    <tr>\n",
       "      <th>14</th>\n",
       "      <td>Lobug</td>\n",
       "      <td>Green</td>\n",
       "      <td>24.8</td>\n",
       "    </tr>\n",
       "    <tr>\n",
       "      <th>15</th>\n",
       "      <td>Mobug</td>\n",
       "      <td>Brown</td>\n",
       "      <td>18.2</td>\n",
       "    </tr>\n",
       "    <tr>\n",
       "      <th>16</th>\n",
       "      <td>Lobug</td>\n",
       "      <td>Green</td>\n",
       "      <td>17.9</td>\n",
       "    </tr>\n",
       "    <tr>\n",
       "      <th>17</th>\n",
       "      <td>Lobug</td>\n",
       "      <td>Green</td>\n",
       "      <td>22.7</td>\n",
       "    </tr>\n",
       "    <tr>\n",
       "      <th>18</th>\n",
       "      <td>Mobug</td>\n",
       "      <td>Green</td>\n",
       "      <td>19.9</td>\n",
       "    </tr>\n",
       "    <tr>\n",
       "      <th>19</th>\n",
       "      <td>Mobug</td>\n",
       "      <td>Blue</td>\n",
       "      <td>14.6</td>\n",
       "    </tr>\n",
       "    <tr>\n",
       "      <th>20</th>\n",
       "      <td>Mobug</td>\n",
       "      <td>Blue</td>\n",
       "      <td>19.2</td>\n",
       "    </tr>\n",
       "    <tr>\n",
       "      <th>21</th>\n",
       "      <td>Lobug</td>\n",
       "      <td>Brown</td>\n",
       "      <td>14.1</td>\n",
       "    </tr>\n",
       "    <tr>\n",
       "      <th>22</th>\n",
       "      <td>Lobug</td>\n",
       "      <td>Green</td>\n",
       "      <td>18.8</td>\n",
       "    </tr>\n",
       "    <tr>\n",
       "      <th>23</th>\n",
       "      <td>Mobug</td>\n",
       "      <td>Blue</td>\n",
       "      <td>13.1</td>\n",
       "    </tr>\n",
       "  </tbody>\n",
       "</table>\n",
       "</div>"
      ],
      "text/plain": [
       "   Species  Color  Length (mm)\n",
       "0    Mobug  Brown         11.6\n",
       "1    Mobug   Blue         16.3\n",
       "2    Lobug   Blue         15.1\n",
       "3    Lobug  Green         23.7\n",
       "4    Lobug   Blue         18.4\n",
       "5    Lobug  Brown         17.1\n",
       "6    Mobug  Brown         15.7\n",
       "7    Lobug  Green         18.6\n",
       "8    Lobug   Blue         22.9\n",
       "9    Lobug   Blue         21.0\n",
       "10   Lobug   Blue         20.5\n",
       "11   Mobug  Green         21.2\n",
       "12   Mobug  Brown         13.8\n",
       "13   Lobug   Blue         14.5\n",
       "14   Lobug  Green         24.8\n",
       "15   Mobug  Brown         18.2\n",
       "16   Lobug  Green         17.9\n",
       "17   Lobug  Green         22.7\n",
       "18   Mobug  Green         19.9\n",
       "19   Mobug   Blue         14.6\n",
       "20   Mobug   Blue         19.2\n",
       "21   Lobug  Brown         14.1\n",
       "22   Lobug  Green         18.8\n",
       "23   Mobug   Blue         13.1"
      ]
     },
     "execution_count": 12,
     "metadata": {},
     "output_type": "execute_result"
    }
   ],
   "source": [
    "df = dfmy = pd.read_csv('C:\\\\ThomasKraemer\\\\OneDrive\\\\03_Programmieren\\\\01_Workspaces\\\\Eclipse\\\\UdacityPyTest2\\\\ml-bugs.csv')\n",
    "df"
   ]
  },
  {
   "cell_type": "markdown",
   "id": "18690a74",
   "metadata": {},
   "source": [
    "Konvertiere nach numpy"
   ]
  },
  {
   "cell_type": "code",
   "execution_count": 409,
   "id": "e3128d0a",
   "metadata": {},
   "outputs": [
    {
     "data": {
      "text/plain": [
       "array(['Mobug', 'Mobug', 'Lobug', 'Lobug', 'Lobug', 'Lobug', 'Mobug',\n",
       "       'Lobug', 'Lobug', 'Lobug', 'Lobug', 'Mobug', 'Mobug', 'Lobug',\n",
       "       'Lobug', 'Mobug', 'Lobug', 'Lobug', 'Mobug', 'Mobug', 'Mobug',\n",
       "       'Lobug', 'Lobug', 'Mobug'], dtype=object)"
      ]
     },
     "execution_count": 409,
     "metadata": {},
     "output_type": "execute_result"
    }
   ],
   "source": [
    "y=df['Species'].to_numpy()\n",
    "y"
   ]
  },
  {
   "cell_type": "code",
   "execution_count": 410,
   "id": "5f8215bb",
   "metadata": {},
   "outputs": [
    {
     "data": {
      "text/plain": [
       "array(['Brown', 'Blue', 'Blue', 'Green', 'Blue', 'Brown', 'Brown',\n",
       "       'Green', 'Blue', 'Blue', 'Blue', 'Green', 'Brown', 'Blue', 'Green',\n",
       "       'Brown', 'Green', 'Green', 'Green', 'Blue', 'Blue', 'Brown',\n",
       "       'Green', 'Blue'], dtype=object)"
      ]
     },
     "execution_count": 410,
     "metadata": {},
     "output_type": "execute_result"
    }
   ],
   "source": [
    "color=df['Color'].to_numpy()\n",
    "color"
   ]
  },
  {
   "cell_type": "code",
   "execution_count": 411,
   "id": "edd9068a",
   "metadata": {},
   "outputs": [
    {
     "data": {
      "text/plain": [
       "array([11.6, 16.3, 15.1, 23.7, 18.4, 17.1, 15.7, 18.6, 22.9, 21. , 20.5,\n",
       "       21.2, 13.8, 14.5, 24.8, 18.2, 17.9, 22.7, 19.9, 14.6, 19.2, 14.1,\n",
       "       18.8, 13.1])"
      ]
     },
     "execution_count": 411,
     "metadata": {},
     "output_type": "execute_result"
    }
   ],
   "source": [
    "length=df['Length (mm)'].to_numpy()\n",
    "length"
   ]
  },
  {
   "cell_type": "markdown",
   "id": "3a74b6dd",
   "metadata": {},
   "source": [
    "## Entropie State0"
   ]
  },
  {
   "cell_type": "code",
   "execution_count": 412,
   "id": "25932bd2",
   "metadata": {},
   "outputs": [
    {
     "name": "stdout",
     "output_type": "stream",
     "text": [
      "['Mobug' 'Mobug' 'Mobug' 'Mobug' 'Mobug' 'Mobug' 'Mobug' 'Mobug' 'Mobug'\n",
      " 'Mobug']\n"
     ]
    },
    {
     "data": {
      "text/plain": [
       "10"
      ]
     },
     "execution_count": 412,
     "metadata": {},
     "output_type": "execute_result"
    }
   ],
   "source": [
    "# sumy1 = Summe(y1)\n",
    "helper = y[y=='Mobug']\n",
    "print(helper)\n",
    "sumy1 = helper.size\n",
    "sumy1\n"
   ]
  },
  {
   "cell_type": "code",
   "execution_count": 413,
   "id": "852c68fd",
   "metadata": {},
   "outputs": [
    {
     "name": "stdout",
     "output_type": "stream",
     "text": [
      "['Lobug' 'Lobug' 'Lobug' 'Lobug' 'Lobug' 'Lobug' 'Lobug' 'Lobug' 'Lobug'\n",
      " 'Lobug' 'Lobug' 'Lobug' 'Lobug' 'Lobug']\n"
     ]
    },
    {
     "data": {
      "text/plain": [
       "14"
      ]
     },
     "execution_count": 413,
     "metadata": {},
     "output_type": "execute_result"
    }
   ],
   "source": [
    "# sumy2 = Summe(y2)\n",
    "helper = y[y=='Lobug']\n",
    "print(helper)\n",
    "sumy2 = helper.size\n",
    "sumy2"
   ]
  },
  {
   "cell_type": "code",
   "execution_count": 414,
   "id": "64bf1bf8",
   "metadata": {},
   "outputs": [
    {
     "name": "stdout",
     "output_type": "stream",
     "text": [
      "0.4166666666666667\n",
      "0.5833333333333334\n"
     ]
    }
   ],
   "source": [
    "p1 = sumy1/(sumy1+sumy2)\n",
    "p2 = sumy2/(sumy1+sumy2)\n",
    "print(p1)\n",
    "print(p2)"
   ]
  },
  {
   "cell_type": "code",
   "execution_count": 415,
   "id": "59dcb3df",
   "metadata": {},
   "outputs": [
    {
     "data": {
      "text/plain": [
       "0.9798687566511528"
      ]
     },
     "execution_count": 415,
     "metadata": {},
     "output_type": "execute_result"
    }
   ],
   "source": [
    "E0 = -1*(p1*np.log2(p1)+p2*np.log2(p2))\n",
    "E0"
   ]
  },
  {
   "cell_type": "markdown",
   "id": "26b556b3",
   "metadata": {},
   "source": [
    "## Entropie Split1"
   ]
  },
  {
   "cell_type": "markdown",
   "id": "97191ddc",
   "metadata": {},
   "source": [
    "### ESplit1Blue"
   ]
  },
  {
   "cell_type": "code",
   "execution_count": 416,
   "id": "2b4b97ab",
   "metadata": {},
   "outputs": [],
   "source": [
    "y1ones=np.zeros((y.size,1))\n",
    "for i in range(0,y.size) :\n",
    "    if (y[i] == 'Mobug'):\n",
    "       y1ones[i] = 1\n",
    "#print(y1ones)"
   ]
  },
  {
   "cell_type": "code",
   "execution_count": 417,
   "id": "742b1e39",
   "metadata": {},
   "outputs": [],
   "source": [
    "y2ones=np.zeros((y.size,1))\n",
    "for i in range(0,y.size) :\n",
    "    if (y[i] == 'Lobug'):\n",
    "       y2ones[i] = 1\n",
    "#print(y2ones)"
   ]
  },
  {
   "cell_type": "code",
   "execution_count": 418,
   "id": "b3fbe24d",
   "metadata": {},
   "outputs": [],
   "source": [
    "Blueones=np.zeros((color.size,1))\n",
    "for i in range(0,y.size) :\n",
    "    if (color[i] == 'Blue'):\n",
    "       Blueones[i] = 1\n",
    "#Blueones"
   ]
  },
  {
   "cell_type": "code",
   "execution_count": 419,
   "id": "e141d840",
   "metadata": {},
   "outputs": [],
   "source": [
    "Greenones=np.zeros((color.size,1))\n",
    "for i in range(0,y.size) :\n",
    "    if (color[i] == 'Green'):\n",
    "       Greenones[i] = 1\n",
    "#Greenones"
   ]
  },
  {
   "cell_type": "code",
   "execution_count": 420,
   "id": "8622061b",
   "metadata": {},
   "outputs": [],
   "source": [
    "Brownones=np.zeros((color.size,1))\n",
    "for i in range(0,y.size) :\n",
    "    if (color[i] == 'Brown'):\n",
    "       Brownones[i] = 1\n",
    "#Brownones"
   ]
  },
  {
   "cell_type": "code",
   "execution_count": 421,
   "id": "03304e36",
   "metadata": {},
   "outputs": [
    {
     "data": {
      "text/plain": [
       "array([[4.]])"
      ]
     },
     "execution_count": 421,
     "metadata": {},
     "output_type": "execute_result"
    }
   ],
   "source": [
    "BlueAndy1=np.dot(y1ones.reshape(1,y1ones.size),Blueones.reshape((Blueones.size,1)))\n",
    "BlueAndy1"
   ]
  },
  {
   "cell_type": "code",
   "execution_count": 422,
   "id": "a2c0258e",
   "metadata": {},
   "outputs": [
    {
     "data": {
      "text/plain": [
       "array([[6.]])"
      ]
     },
     "execution_count": 422,
     "metadata": {},
     "output_type": "execute_result"
    }
   ],
   "source": [
    "BlueAndy2=np.dot(y2ones.reshape(1,y2ones.size),Blueones.reshape((Blueones.size,1)))\n",
    "BlueAndy2"
   ]
  },
  {
   "cell_type": "code",
   "execution_count": 423,
   "id": "c9190559",
   "metadata": {},
   "outputs": [
    {
     "data": {
      "text/plain": [
       "array([[2.]])"
      ]
     },
     "execution_count": 423,
     "metadata": {},
     "output_type": "execute_result"
    }
   ],
   "source": [
    "GreenAndy1=np.dot(y1ones.reshape(1,y1ones.size),Greenones.reshape((Greenones.size,1)))\n",
    "GreenAndy1"
   ]
  },
  {
   "cell_type": "code",
   "execution_count": 424,
   "id": "3b9e2c2a",
   "metadata": {},
   "outputs": [
    {
     "data": {
      "text/plain": [
       "array([[6.]])"
      ]
     },
     "execution_count": 424,
     "metadata": {},
     "output_type": "execute_result"
    }
   ],
   "source": [
    "GreenAndy2=np.dot(y2ones.reshape(1,y2ones.size),Greenones.reshape((Greenones.size,1)))\n",
    "GreenAndy2"
   ]
  },
  {
   "cell_type": "code",
   "execution_count": 425,
   "id": "230a73a6",
   "metadata": {},
   "outputs": [
    {
     "data": {
      "text/plain": [
       "array([[4.]])"
      ]
     },
     "execution_count": 425,
     "metadata": {},
     "output_type": "execute_result"
    }
   ],
   "source": [
    "BrownAndy1=np.dot(y1ones.reshape(1,y1ones.size),Brownones.reshape((Brownones.size,1)))\n",
    "BrownAndy1"
   ]
  },
  {
   "cell_type": "code",
   "execution_count": 426,
   "id": "c12873af",
   "metadata": {},
   "outputs": [
    {
     "data": {
      "text/plain": [
       "array([[2.]])"
      ]
     },
     "execution_count": 426,
     "metadata": {},
     "output_type": "execute_result"
    }
   ],
   "source": [
    "BrownAndy2=np.dot(y2ones.reshape(1,y2ones.size),Brownones.reshape((Brownones.size,1)))\n",
    "BrownAndy2"
   ]
  },
  {
   "cell_type": "code",
   "execution_count": 427,
   "id": "7e170e71",
   "metadata": {},
   "outputs": [
    {
     "data": {
      "text/plain": [
       "0.4"
      ]
     },
     "execution_count": 427,
     "metadata": {},
     "output_type": "execute_result"
    }
   ],
   "source": [
    "p1=np.ndarray.item(BlueAndy1/(BlueAndy1+BlueAndy2))\n",
    "p1"
   ]
  },
  {
   "cell_type": "code",
   "execution_count": 428,
   "id": "a134ce96",
   "metadata": {},
   "outputs": [
    {
     "data": {
      "text/plain": [
       "0.6"
      ]
     },
     "execution_count": 428,
     "metadata": {},
     "output_type": "execute_result"
    }
   ],
   "source": [
    "p2=np.ndarray.item(BlueAndy2/(BlueAndy1+BlueAndy2))\n",
    "p2"
   ]
  },
  {
   "cell_type": "code",
   "execution_count": 429,
   "id": "267538be",
   "metadata": {},
   "outputs": [
    {
     "data": {
      "text/plain": [
       "0.9709505944546686"
      ]
     },
     "execution_count": 429,
     "metadata": {},
     "output_type": "execute_result"
    }
   ],
   "source": [
    "EBlue= -1*(p1*np.log2(p1)+p2*np.log2(p2))\n",
    "EBlue"
   ]
  },
  {
   "cell_type": "code",
   "execution_count": 430,
   "id": "bd1c5aad",
   "metadata": {},
   "outputs": [],
   "source": [
    "#Green and Brown"
   ]
  },
  {
   "cell_type": "code",
   "execution_count": 431,
   "id": "fc8556e6",
   "metadata": {},
   "outputs": [
    {
     "data": {
      "text/plain": [
       "array([[6.]])"
      ]
     },
     "execution_count": 431,
     "metadata": {},
     "output_type": "execute_result"
    }
   ],
   "source": [
    "GreenBrowny1 = GreenAndy1 + BrownAndy1\n",
    "GreenBrowny1"
   ]
  },
  {
   "cell_type": "code",
   "execution_count": 432,
   "id": "e6ad90a6",
   "metadata": {},
   "outputs": [
    {
     "data": {
      "text/plain": [
       "array([[8.]])"
      ]
     },
     "execution_count": 432,
     "metadata": {},
     "output_type": "execute_result"
    }
   ],
   "source": [
    "GreenBrowny2 = GreenAndy2 + BrownAndy2\n",
    "GreenBrowny2"
   ]
  },
  {
   "cell_type": "code",
   "execution_count": 433,
   "id": "d2d96368",
   "metadata": {},
   "outputs": [
    {
     "data": {
      "text/plain": [
       "0.42857142857142855"
      ]
     },
     "execution_count": 433,
     "metadata": {},
     "output_type": "execute_result"
    }
   ],
   "source": [
    "p1=np.ndarray.item(GreenBrowny1/(GreenBrowny1+GreenBrowny2))\n",
    "p1"
   ]
  },
  {
   "cell_type": "code",
   "execution_count": 434,
   "id": "29113a68",
   "metadata": {},
   "outputs": [
    {
     "data": {
      "text/plain": [
       "0.5714285714285714"
      ]
     },
     "execution_count": 434,
     "metadata": {},
     "output_type": "execute_result"
    }
   ],
   "source": [
    "p2=np.ndarray.item(GreenBrowny2/(GreenBrowny1+GreenBrowny2))\n",
    "p2"
   ]
  },
  {
   "cell_type": "code",
   "execution_count": 435,
   "id": "96d08cfe",
   "metadata": {},
   "outputs": [
    {
     "data": {
      "text/plain": [
       "0.9852281360342515"
      ]
     },
     "execution_count": 435,
     "metadata": {},
     "output_type": "execute_result"
    }
   ],
   "source": [
    "EGreenBrown = -1*(p1*np.log2(p1)+p2*np.log2(p2))\n",
    "EGreenBrown"
   ]
  },
  {
   "cell_type": "code",
   "execution_count": 436,
   "id": "682900cb",
   "metadata": {},
   "outputs": [
    {
     "data": {
      "text/plain": [
       "0.0017793914066928096"
      ]
     },
     "execution_count": 436,
     "metadata": {},
     "output_type": "execute_result"
    }
   ],
   "source": [
    "IGBlue = E0 - 0.5*(EBlue + EGreenBrown)\n",
    "IGBlue"
   ]
  },
  {
   "cell_type": "code",
   "execution_count": 437,
   "id": "f3ec5c43",
   "metadata": {},
   "outputs": [
    {
     "data": {
      "text/plain": [
       "array([[2.]])"
      ]
     },
     "execution_count": 437,
     "metadata": {},
     "output_type": "execute_result"
    }
   ],
   "source": [
    "GreenAndy1"
   ]
  },
  {
   "cell_type": "code",
   "execution_count": 438,
   "id": "6da2288c",
   "metadata": {},
   "outputs": [
    {
     "data": {
      "text/plain": [
       "array([[6.]])"
      ]
     },
     "execution_count": 438,
     "metadata": {},
     "output_type": "execute_result"
    }
   ],
   "source": [
    "GreenAndy2"
   ]
  },
  {
   "cell_type": "code",
   "execution_count": 439,
   "id": "44b49f7b",
   "metadata": {},
   "outputs": [
    {
     "data": {
      "text/plain": [
       "0.25"
      ]
     },
     "execution_count": 439,
     "metadata": {},
     "output_type": "execute_result"
    }
   ],
   "source": [
    "p1=p1=np.ndarray.item(GreenAndy1/(GreenAndy1+GreenAndy2))\n",
    "p1"
   ]
  },
  {
   "cell_type": "code",
   "execution_count": 440,
   "id": "6d53b862",
   "metadata": {},
   "outputs": [
    {
     "data": {
      "text/plain": [
       "0.75"
      ]
     },
     "execution_count": 440,
     "metadata": {},
     "output_type": "execute_result"
    }
   ],
   "source": [
    "p2=p1=np.ndarray.item(GreenAndy2/(GreenAndy1+GreenAndy2))\n",
    "p2"
   ]
  },
  {
   "cell_type": "code",
   "execution_count": 441,
   "id": "fc97d80f",
   "metadata": {},
   "outputs": [
    {
     "data": {
      "text/plain": [
       "0.6225562489182657"
      ]
     },
     "execution_count": 441,
     "metadata": {},
     "output_type": "execute_result"
    }
   ],
   "source": [
    "EGreen= -1*(p1*np.log2(p1)+p2*np.log2(p2))\n",
    "EGreen"
   ]
  },
  {
   "cell_type": "code",
   "execution_count": 442,
   "id": "6fb2fc46",
   "metadata": {},
   "outputs": [
    {
     "data": {
      "text/plain": [
       "array([[6.]])"
      ]
     },
     "execution_count": 442,
     "metadata": {},
     "output_type": "execute_result"
    }
   ],
   "source": [
    "# Blue and Green\n",
    "GreenBlue1 = GreenAndy1 + BlueAndy1\n",
    "GreenBlue1"
   ]
  },
  {
   "cell_type": "code",
   "execution_count": 443,
   "id": "d4c1d396",
   "metadata": {},
   "outputs": [
    {
     "data": {
      "text/plain": [
       "array([[12.]])"
      ]
     },
     "execution_count": 443,
     "metadata": {},
     "output_type": "execute_result"
    }
   ],
   "source": [
    "GreenBlue2 = GreenAndy2 + BlueAndy2\n",
    "GreenBlue2"
   ]
  },
  {
   "cell_type": "code",
   "execution_count": 444,
   "id": "aa37bc64",
   "metadata": {},
   "outputs": [
    {
     "data": {
      "text/plain": [
       "0.3333333333333333"
      ]
     },
     "execution_count": 444,
     "metadata": {},
     "output_type": "execute_result"
    }
   ],
   "source": [
    "p1=np.ndarray.item(GreenBlue1/(GreenBlue1+GreenBlue2))\n",
    "p1"
   ]
  },
  {
   "cell_type": "code",
   "execution_count": 445,
   "id": "ba0f87ee",
   "metadata": {},
   "outputs": [
    {
     "data": {
      "text/plain": [
       "0.6666666666666666"
      ]
     },
     "execution_count": 445,
     "metadata": {},
     "output_type": "execute_result"
    }
   ],
   "source": [
    "p2=np.ndarray.item(GreenBlue2/(GreenBlue1+GreenBlue2))\n",
    "p2"
   ]
  },
  {
   "cell_type": "code",
   "execution_count": 446,
   "id": "b7712d78",
   "metadata": {},
   "outputs": [
    {
     "data": {
      "text/plain": [
       "0.9182958340544896"
      ]
     },
     "execution_count": 446,
     "metadata": {},
     "output_type": "execute_result"
    }
   ],
   "source": [
    "EGreenBlue = -1*(p1*np.log2(p1)+p2*np.log2(p2))\n",
    "EGreenBlue"
   ]
  },
  {
   "cell_type": "code",
   "execution_count": 447,
   "id": "86988561",
   "metadata": {},
   "outputs": [
    {
     "data": {
      "text/plain": [
       "0.6666666666666666"
      ]
     },
     "execution_count": 447,
     "metadata": {},
     "output_type": "execute_result"
    }
   ],
   "source": [
    "p1=np.ndarray.item(BrownAndy2/(BrownAndy1+BrownAndy2))\n",
    "p2"
   ]
  },
  {
   "cell_type": "code",
   "execution_count": 448,
   "id": "2a149d9e",
   "metadata": {},
   "outputs": [
    {
     "data": {
      "text/plain": [
       "0.9182958340544896"
      ]
     },
     "execution_count": 448,
     "metadata": {},
     "output_type": "execute_result"
    }
   ],
   "source": [
    "EBrown= -1*(p1*np.log2(p1)+p2*np.log2(p2))\n",
    "EBrown"
   ]
  },
  {
   "cell_type": "code",
   "execution_count": 449,
   "id": "f2db02c8",
   "metadata": {},
   "outputs": [
    {
     "data": {
      "text/plain": [
       "0.06157292259666325"
      ]
     },
     "execution_count": 449,
     "metadata": {},
     "output_type": "execute_result"
    }
   ],
   "source": [
    "IGBrown = E0 - 0.5*(EBrown + EGreenBlue)\n",
    "IGBrown"
   ]
  },
  {
   "cell_type": "code",
   "execution_count": 450,
   "id": "0c2b51ac",
   "metadata": {},
   "outputs": [
    {
     "data": {
      "text/plain": [
       "array([[8.]])"
      ]
     },
     "execution_count": 450,
     "metadata": {},
     "output_type": "execute_result"
    }
   ],
   "source": [
    "# Blue and Green\n",
    "BrownBlue1 = BrownAndy1 + BlueAndy1\n",
    "BrownBlue1"
   ]
  },
  {
   "cell_type": "code",
   "execution_count": 451,
   "id": "90d7aed2",
   "metadata": {},
   "outputs": [
    {
     "data": {
      "text/plain": [
       "array([[8.]])"
      ]
     },
     "execution_count": 451,
     "metadata": {},
     "output_type": "execute_result"
    }
   ],
   "source": [
    "BrownBlue2 = BrownAndy2 + BlueAndy2\n",
    "BrownBlue2"
   ]
  },
  {
   "cell_type": "code",
   "execution_count": 452,
   "id": "a6316747",
   "metadata": {},
   "outputs": [
    {
     "data": {
      "text/plain": [
       "0.5"
      ]
     },
     "execution_count": 452,
     "metadata": {},
     "output_type": "execute_result"
    }
   ],
   "source": [
    "p1=np.ndarray.item(BrownBlue1/(BrownBlue1+BrownBlue2))\n",
    "p1"
   ]
  },
  {
   "cell_type": "code",
   "execution_count": 453,
   "id": "35028c33",
   "metadata": {},
   "outputs": [
    {
     "data": {
      "text/plain": [
       "0.5"
      ]
     },
     "execution_count": 453,
     "metadata": {},
     "output_type": "execute_result"
    }
   ],
   "source": [
    "p2=np.ndarray.item(BrownBlue2/(BrownBlue1+BrownBlue2))\n",
    "p2"
   ]
  },
  {
   "cell_type": "code",
   "execution_count": 454,
   "id": "f3aa5729",
   "metadata": {},
   "outputs": [
    {
     "data": {
      "text/plain": [
       "1.0"
      ]
     },
     "execution_count": 454,
     "metadata": {},
     "output_type": "execute_result"
    }
   ],
   "source": [
    "EBrownBlue = -1*(p1*np.log2(p1)+p2*np.log2(p2))\n",
    "EBrownBlue"
   ]
  },
  {
   "cell_type": "code",
   "execution_count": 455,
   "id": "bec249b6",
   "metadata": {},
   "outputs": [
    {
     "data": {
      "text/plain": [
       "0.16859063219201997"
      ]
     },
     "execution_count": 455,
     "metadata": {},
     "output_type": "execute_result"
    }
   ],
   "source": [
    "IGGreen = E0 - 0.5*(EGreen + EBrownBlue)\n",
    "IGGreen"
   ]
  },
  {
   "cell_type": "markdown",
   "id": "285eb174",
   "metadata": {},
   "source": [
    "## Y2"
   ]
  },
  {
   "cell_type": "code",
   "execution_count": 456,
   "id": "046952d7",
   "metadata": {},
   "outputs": [
    {
     "data": {
      "text/plain": [
       "array([11.6, 16.3, 15.1, 23.7, 18.4, 17.1, 15.7, 18.6, 22.9, 21. , 20.5,\n",
       "       21.2, 13.8, 14.5, 24.8, 18.2, 17.9, 22.7, 19.9, 14.6, 19.2, 14.1,\n",
       "       18.8, 13.1])"
      ]
     },
     "execution_count": 456,
     "metadata": {},
     "output_type": "execute_result"
    }
   ],
   "source": [
    "length"
   ]
  },
  {
   "cell_type": "code",
   "execution_count": 457,
   "id": "3ff25727",
   "metadata": {},
   "outputs": [],
   "source": [
    "SmallY1nones=np.zeros((color.size,1))\n",
    "for i in range(0,y.size) :\n",
    "    if (y[i] == 'Mobug') & (length[i]<17):\n",
    "       SmallY1nones[i] = 1\n",
    "#SmallY1nones"
   ]
  },
  {
   "cell_type": "code",
   "execution_count": 458,
   "id": "e6ca0ed4",
   "metadata": {},
   "outputs": [
    {
     "data": {
      "text/plain": [
       "6.0"
      ]
     },
     "execution_count": 458,
     "metadata": {},
     "output_type": "execute_result"
    }
   ],
   "source": [
    "SmallY1Sum = SmallY1nones.sum()\n",
    "SmallY1Sum"
   ]
  },
  {
   "cell_type": "code",
   "execution_count": 459,
   "id": "cd8c2fd5",
   "metadata": {},
   "outputs": [],
   "source": [
    "SmallY2nones=np.zeros((color.size,1))\n",
    "for i in range(0,y.size) :\n",
    "    if (y[i] == 'Lobug') & (length[i]<17):\n",
    "       SmallY2nones[i] = 1\n",
    "#SmallY2nones"
   ]
  },
  {
   "cell_type": "code",
   "execution_count": 460,
   "id": "f1fae33b",
   "metadata": {},
   "outputs": [
    {
     "data": {
      "text/plain": [
       "3.0"
      ]
     },
     "execution_count": 460,
     "metadata": {},
     "output_type": "execute_result"
    }
   ],
   "source": [
    "SmallY2Sum = SmallY2nones.sum()\n",
    "SmallY2Sum"
   ]
  },
  {
   "cell_type": "code",
   "execution_count": 461,
   "id": "575b0758",
   "metadata": {},
   "outputs": [],
   "source": [
    "p1=SmallY1Sum/(SmallY1Sum + SmallY2Sum)"
   ]
  },
  {
   "cell_type": "code",
   "execution_count": 462,
   "id": "e307869f",
   "metadata": {},
   "outputs": [],
   "source": [
    "p2=SmallY2Sum/(SmallY1Sum + SmallY2Sum)"
   ]
  },
  {
   "cell_type": "code",
   "execution_count": 463,
   "id": "4beb59ce",
   "metadata": {},
   "outputs": [
    {
     "data": {
      "text/plain": [
       "0.9182958340544896"
      ]
     },
     "execution_count": 463,
     "metadata": {},
     "output_type": "execute_result"
    }
   ],
   "source": [
    "ESmall = -1*(p1*np.log2(p1)+p2*np.log2(p2))\n",
    "ESmall"
   ]
  },
  {
   "cell_type": "code",
   "execution_count": 464,
   "id": "88dded87",
   "metadata": {},
   "outputs": [],
   "source": [
    "SmallY1nonesRest=np.zeros((color.size,1))\n",
    "for i in range(0,y.size) :\n",
    "    if (y[i] == 'Mobug') & (length[i]>17):\n",
    "       SmallY1nonesRest[i] = 1\n",
    "#SmallY1nonesRest"
   ]
  },
  {
   "cell_type": "code",
   "execution_count": 465,
   "id": "0e421741",
   "metadata": {},
   "outputs": [
    {
     "data": {
      "text/plain": [
       "4.0"
      ]
     },
     "execution_count": 465,
     "metadata": {},
     "output_type": "execute_result"
    }
   ],
   "source": [
    "SmallY1SumRest = SmallY1nonesRest.sum()\n",
    "SmallY1SumRest"
   ]
  },
  {
   "cell_type": "code",
   "execution_count": 466,
   "id": "d12af543",
   "metadata": {},
   "outputs": [],
   "source": [
    "SmallY2nonesRest=np.zeros((color.size,1))\n",
    "for i in range(0,y.size) :\n",
    "    if (y[i] == 'Lobug') & (length[i]>17):\n",
    "       SmallY2nonesRest[i] = 1\n",
    "#SmallY2nonesRest"
   ]
  },
  {
   "cell_type": "code",
   "execution_count": 467,
   "id": "c26872a0",
   "metadata": {},
   "outputs": [
    {
     "data": {
      "text/plain": [
       "11.0"
      ]
     },
     "execution_count": 467,
     "metadata": {},
     "output_type": "execute_result"
    }
   ],
   "source": [
    "SmallY2SumRest = SmallY2nonesRest.sum()\n",
    "SmallY2SumRest"
   ]
  },
  {
   "cell_type": "code",
   "execution_count": 468,
   "id": "e57f39d8",
   "metadata": {},
   "outputs": [],
   "source": [
    "p1=SmallY1SumRest/(SmallY1SumRest + SmallY2SumRest)"
   ]
  },
  {
   "cell_type": "code",
   "execution_count": 469,
   "id": "dbde68dd",
   "metadata": {},
   "outputs": [],
   "source": [
    "p2=SmallY2SumRest/(SmallY1SumRest + SmallY2SumRest)"
   ]
  },
  {
   "cell_type": "code",
   "execution_count": 470,
   "id": "ff6d4411",
   "metadata": {},
   "outputs": [
    {
     "data": {
      "text/plain": [
       "0.8366407419411672"
      ]
     },
     "execution_count": 470,
     "metadata": {},
     "output_type": "execute_result"
    }
   ],
   "source": [
    "ESmallRest = -1*(p1*np.log2(p1)+p2*np.log2(p2))\n",
    "ESmallRest"
   ]
  },
  {
   "cell_type": "code",
   "execution_count": 471,
   "id": "a377c723",
   "metadata": {},
   "outputs": [
    {
     "data": {
      "text/plain": [
       "0.10240046865332442"
      ]
     },
     "execution_count": 471,
     "metadata": {},
     "output_type": "execute_result"
    }
   ],
   "source": [
    "IGSmall = E0 - 0.5* (ESmall+ESmallRest)\n",
    "IGSmall"
   ]
  },
  {
   "cell_type": "code",
   "execution_count": 472,
   "id": "62dc91b3",
   "metadata": {},
   "outputs": [
    {
     "data": {
      "text/plain": [
       "0.9798687566511528"
      ]
     },
     "execution_count": 472,
     "metadata": {},
     "output_type": "execute_result"
    }
   ],
   "source": [
    "E0"
   ]
  },
  {
   "cell_type": "code",
   "execution_count": null,
   "id": "288d31e7",
   "metadata": {},
   "outputs": [],
   "source": []
  },
  {
   "cell_type": "code",
   "execution_count": 473,
   "id": "03209539",
   "metadata": {},
   "outputs": [],
   "source": [
    "BigY1nones=np.zeros((color.size,1))\n",
    "for i in range(0,y.size) :\n",
    "    if (y[i] == 'Mobug') & (length[i]<20):\n",
    "       BigY1nones[i] = 1\n",
    "#BigY1nones"
   ]
  },
  {
   "cell_type": "code",
   "execution_count": 474,
   "id": "c52270f2",
   "metadata": {},
   "outputs": [
    {
     "data": {
      "text/plain": [
       "6.0"
      ]
     },
     "execution_count": 474,
     "metadata": {},
     "output_type": "execute_result"
    }
   ],
   "source": [
    "BigY1Sum = SmallY1nones.sum()\n",
    "BigY1Sum"
   ]
  },
  {
   "cell_type": "code",
   "execution_count": 475,
   "id": "0514d43f",
   "metadata": {},
   "outputs": [
    {
     "data": {
      "text/plain": [
       "array([[0.],\n",
       "       [0.],\n",
       "       [1.],\n",
       "       [0.],\n",
       "       [1.],\n",
       "       [1.],\n",
       "       [0.],\n",
       "       [1.],\n",
       "       [0.],\n",
       "       [0.],\n",
       "       [0.],\n",
       "       [0.],\n",
       "       [0.],\n",
       "       [1.],\n",
       "       [0.],\n",
       "       [0.],\n",
       "       [1.],\n",
       "       [0.],\n",
       "       [0.],\n",
       "       [0.],\n",
       "       [0.],\n",
       "       [1.],\n",
       "       [1.],\n",
       "       [0.]])"
      ]
     },
     "execution_count": 475,
     "metadata": {},
     "output_type": "execute_result"
    }
   ],
   "source": [
    "BigY2nones=np.zeros((color.size,1))\n",
    "for i in range(0,y.size) :\n",
    "    if (y[i] == 'Lobug') & (length[i]<20):\n",
    "       BigY2nones[i] = 1\n",
    "BigY2nones"
   ]
  },
  {
   "cell_type": "code",
   "execution_count": 476,
   "id": "6ea68f21",
   "metadata": {},
   "outputs": [
    {
     "data": {
      "text/plain": [
       "3.0"
      ]
     },
     "execution_count": 476,
     "metadata": {},
     "output_type": "execute_result"
    }
   ],
   "source": [
    "BigY2Sum = SmallY2nones.sum()\n",
    "BigY2Sum"
   ]
  },
  {
   "cell_type": "markdown",
   "id": "083a8fc1",
   "metadata": {},
   "source": [
    "IGSmall = ? "
   ]
  },
  {
   "cell_type": "code",
   "execution_count": 477,
   "id": "2923d021",
   "metadata": {},
   "outputs": [
    {
     "data": {
      "text/plain": [
       "array([[0.],\n",
       "       [0.],\n",
       "       [0.],\n",
       "       [0.],\n",
       "       [0.],\n",
       "       [0.],\n",
       "       [0.],\n",
       "       [0.],\n",
       "       [0.],\n",
       "       [0.],\n",
       "       [0.],\n",
       "       [1.],\n",
       "       [0.],\n",
       "       [0.],\n",
       "       [0.],\n",
       "       [0.],\n",
       "       [0.],\n",
       "       [0.],\n",
       "       [0.],\n",
       "       [0.],\n",
       "       [0.],\n",
       "       [0.],\n",
       "       [0.],\n",
       "       [0.]])"
      ]
     },
     "execution_count": 477,
     "metadata": {},
     "output_type": "execute_result"
    }
   ],
   "source": [
    "BigY1nonesRest=np.zeros((color.size,1))\n",
    "for i in range(0,y.size) :\n",
    "    if (y[i] == 'Mobug') & (length[i]>20):\n",
    "       BigY1nonesRest[i] = 1\n",
    "BigY1nonesRest"
   ]
  },
  {
   "cell_type": "code",
   "execution_count": 478,
   "id": "15a2cda4",
   "metadata": {},
   "outputs": [
    {
     "data": {
      "text/plain": [
       "1.0"
      ]
     },
     "execution_count": 478,
     "metadata": {},
     "output_type": "execute_result"
    }
   ],
   "source": [
    "BigY1SumRest = BigY1nonesRest.sum()\n",
    "BigY1SumRest"
   ]
  },
  {
   "cell_type": "code",
   "execution_count": 479,
   "id": "93e6b5d3",
   "metadata": {},
   "outputs": [
    {
     "data": {
      "text/plain": [
       "array([[0.],\n",
       "       [0.],\n",
       "       [0.],\n",
       "       [1.],\n",
       "       [0.],\n",
       "       [0.],\n",
       "       [0.],\n",
       "       [0.],\n",
       "       [1.],\n",
       "       [1.],\n",
       "       [1.],\n",
       "       [0.],\n",
       "       [0.],\n",
       "       [0.],\n",
       "       [1.],\n",
       "       [0.],\n",
       "       [0.],\n",
       "       [1.],\n",
       "       [0.],\n",
       "       [0.],\n",
       "       [0.],\n",
       "       [0.],\n",
       "       [0.],\n",
       "       [0.]])"
      ]
     },
     "execution_count": 479,
     "metadata": {},
     "output_type": "execute_result"
    }
   ],
   "source": [
    "BigY2nonesRest=np.zeros((color.size,1))\n",
    "for i in range(0,y.size) :\n",
    "    if (y[i] == 'Lobug') & (length[i]>20):\n",
    "       BigY2nonesRest[i] = 1\n",
    "BigY2nonesRest"
   ]
  },
  {
   "cell_type": "code",
   "execution_count": 480,
   "id": "88d340c4",
   "metadata": {},
   "outputs": [
    {
     "data": {
      "text/plain": [
       "6.0"
      ]
     },
     "execution_count": 480,
     "metadata": {},
     "output_type": "execute_result"
    }
   ],
   "source": [
    "BigY2SumRest = BigY2nonesRest.sum()\n",
    "BigY2SumRest"
   ]
  },
  {
   "cell_type": "code",
   "execution_count": 481,
   "id": "d753320e",
   "metadata": {},
   "outputs": [],
   "source": [
    "p1=BigY1Sum/(BigY1Sum + BigY2Sum)"
   ]
  },
  {
   "cell_type": "code",
   "execution_count": 482,
   "id": "18fb7f5e",
   "metadata": {},
   "outputs": [],
   "source": [
    "p2=BigY2Sum/(BigY1Sum + BigY2Sum)"
   ]
  },
  {
   "cell_type": "code",
   "execution_count": 483,
   "id": "5ef5ea47",
   "metadata": {},
   "outputs": [
    {
     "data": {
      "text/plain": [
       "0.9182958340544896"
      ]
     },
     "execution_count": 483,
     "metadata": {},
     "output_type": "execute_result"
    }
   ],
   "source": [
    "EBig = -1*(p1*np.log2(p1)+p2*np.log2(p2))\n",
    "EBig"
   ]
  },
  {
   "cell_type": "code",
   "execution_count": 484,
   "id": "186f1a73",
   "metadata": {},
   "outputs": [],
   "source": [
    "p1=BigY1SumRest/(BigY1SumRest + BigY2SumRest)"
   ]
  },
  {
   "cell_type": "code",
   "execution_count": 485,
   "id": "fb6d900c",
   "metadata": {},
   "outputs": [],
   "source": [
    "p2=BigY2SumRest/(BigY1SumRest + BigY2SumRest)"
   ]
  },
  {
   "cell_type": "code",
   "execution_count": 486,
   "id": "6e6eeb23",
   "metadata": {},
   "outputs": [
    {
     "data": {
      "text/plain": [
       "0.5916727785823275"
      ]
     },
     "execution_count": 486,
     "metadata": {},
     "output_type": "execute_result"
    }
   ],
   "source": [
    "EBigRest = -1*(p1*np.log2(p1)+p2*np.log2(p2))\n",
    "EBigRest"
   ]
  },
  {
   "cell_type": "code",
   "execution_count": 487,
   "id": "3cd8a474",
   "metadata": {},
   "outputs": [
    {
     "data": {
      "text/plain": [
       "0.2248844503327443"
      ]
     },
     "execution_count": 487,
     "metadata": {},
     "output_type": "execute_result"
    }
   ],
   "source": [
    "IGBig = E0 - 0.5*(EBig+EBigRest)\n",
    "IGBig"
   ]
  },
  {
   "cell_type": "code",
   "execution_count": 488,
   "id": "6439f750",
   "metadata": {},
   "outputs": [
    {
     "data": {
      "text/plain": [
       "4.0"
      ]
     },
     "execution_count": 488,
     "metadata": {},
     "output_type": "execute_result"
    }
   ],
   "source": [
    "BlueonesAndY1=np.zeros((color.size,1))\n",
    "for i in range(0,y.size) :\n",
    "    if (color[i] == 'Blue') & (y[i]=='Mobug'):\n",
    "       BlueonesAndY1[i] = 1\n",
    "BlueonesAndY1Sum = BlueonesAndY1.sum()\n",
    "BlueonesAndY1Sum"
   ]
  },
  {
   "cell_type": "code",
   "execution_count": 489,
   "id": "d2504b6e",
   "metadata": {},
   "outputs": [
    {
     "data": {
      "text/plain": [
       "2.0"
      ]
     },
     "execution_count": 489,
     "metadata": {},
     "output_type": "execute_result"
    }
   ],
   "source": [
    "GreenonesAndY1=np.zeros((color.size,1))\n",
    "for i in range(0,y.size) :\n",
    "    if (color[i] == 'Green') & (y[i]=='Mobug'):\n",
    "       GreenonesAndY1[i] = 1\n",
    "GreenonesAndY1Sum = GreenonesAndY1.sum()\n",
    "GreenonesAndY1Sum"
   ]
  },
  {
   "cell_type": "code",
   "execution_count": 490,
   "id": "cd8698cf",
   "metadata": {},
   "outputs": [
    {
     "data": {
      "text/plain": [
       "6.0"
      ]
     },
     "execution_count": 490,
     "metadata": {},
     "output_type": "execute_result"
    }
   ],
   "source": [
    "GreenonesAndY2=np.zeros((color.size,1))\n",
    "for i in range(0,y.size) :\n",
    "    if (color[i] == 'Green') & (y[i]=='Lobug'):\n",
    "       GreenonesAndY2[i] = 1\n",
    "GreenonesAndY2Sum = GreenonesAndY2.sum()\n",
    "GreenonesAndY2Sum"
   ]
  },
  {
   "cell_type": "code",
   "execution_count": 491,
   "id": "f1d1490b",
   "metadata": {},
   "outputs": [
    {
     "data": {
      "text/plain": [
       "4.0"
      ]
     },
     "execution_count": 491,
     "metadata": {},
     "output_type": "execute_result"
    }
   ],
   "source": [
    "BrownonesAndY1=np.zeros((color.size,1))\n",
    "for i in range(0,y.size) :\n",
    "    if (color[i] == 'Brown') & (y[i]=='Mobug'):\n",
    "       BrownonesAndY1[i] = 1\n",
    "BrownonesAndY1Sum = BrownonesAndY1.sum()\n",
    "BrownonesAndY1Sum"
   ]
  },
  {
   "cell_type": "code",
   "execution_count": 492,
   "id": "703f35cd",
   "metadata": {},
   "outputs": [
    {
     "data": {
      "text/plain": [
       "2.0"
      ]
     },
     "execution_count": 492,
     "metadata": {},
     "output_type": "execute_result"
    }
   ],
   "source": [
    "BrownonesAndY2=np.zeros((color.size,1))\n",
    "for i in range(0,y.size) :\n",
    "    if (color[i] == 'Brown') & (y[i]=='Lobug'):\n",
    "       BrownonesAndY2[i] = 1\n",
    "BrownonesAndY2Sum = BrownonesAndY2.sum()\n",
    "BrownonesAndY2Sum"
   ]
  },
  {
   "cell_type": "code",
   "execution_count": null,
   "id": "a259b77f",
   "metadata": {},
   "outputs": [],
   "source": []
  },
  {
   "cell_type": "code",
   "execution_count": null,
   "id": "cb8e41d0",
   "metadata": {},
   "outputs": [],
   "source": []
  }
 ],
 "metadata": {
  "kernelspec": {
   "display_name": "Python 3",
   "language": "python",
   "name": "python3"
  },
  "language_info": {
   "codemirror_mode": {
    "name": "ipython",
    "version": 3
   },
   "file_extension": ".py",
   "mimetype": "text/x-python",
   "name": "python",
   "nbconvert_exporter": "python",
   "pygments_lexer": "ipython3",
   "version": "3.8.8"
  }
 },
 "nbformat": 4,
 "nbformat_minor": 5
}
