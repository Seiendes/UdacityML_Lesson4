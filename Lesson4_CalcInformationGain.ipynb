{
 "cells": [
  {
   "cell_type": "markdown",
   "id": "8986a647",
   "metadata": {},
   "source": [
    "# Uebung Calculation Gain\n",
    "Zu Lesson4 Decision Trees: 16.CalculatingInformationGain"
   ]
  },
  {
   "attachments": {},
   "cell_type": "markdown",
   "id": "b7152a97",
   "metadata": {},
   "source": [
    "Unterlagen siehe onenote: \"Lesson4: Decision Trees!\""
   ]
  },
  {
   "cell_type": "markdown",
   "id": "01c68f4a",
   "metadata": {},
   "source": [
    "## Aufgabe"
   ]
  },
  {
   "cell_type": "markdown",
   "id": "827ad95d",
   "metadata": {},
   "source": [
    "Berechne fuer alle moeglichen Splits (Split zwischen Werten innerhalb der Attribute) den Information gain"
   ]
  },
  {
   "cell_type": "markdown",
   "id": "18957f0b",
   "metadata": {},
   "source": [
    "## Gegeben"
   ]
  },
  {
   "cell_type": "markdown",
   "id": "d34d42e8",
   "metadata": {},
   "source": [
    "csv-file ml-bugs.csv"
   ]
  },
  {
   "cell_type": "markdown",
   "id": "23241c85",
   "metadata": {},
   "source": [
    "Lade csv-File mit 2 Attributen:m"
   ]
  },
  {
   "cell_type": "markdown",
   "id": "1a38fa48",
   "metadata": {},
   "source": [
    "    Attribut1: Color. Werte: Green, Blue, Green"
   ]
  },
  {
   "cell_type": "markdown",
   "id": "494b0d9e",
   "metadata": {},
   "source": [
    "    (Attribut2: Length. Werte: float numbers) -> splitte in Attribut 2a und 2b"
   ]
  },
  {
   "cell_type": "markdown",
   "id": "bb8e355f",
   "metadata": {},
   "source": [
    "    Attribut2a: length<17"
   ]
  },
  {
   "cell_type": "markdown",
   "id": "9c9a1148",
   "metadata": {},
   "source": [
    "    Attribut2b: lenght<20"
   ]
  },
  {
   "cell_type": "markdown",
   "id": "0675633f",
   "metadata": {},
   "source": [
    "Target: Species: y1=Mobus, y2=Lobgus"
   ]
  },
  {
   "cell_type": "markdown",
   "id": "cf3bf71b",
   "metadata": {},
   "source": [
    "# Algorithmus"
   ]
  },
  {
   "cell_type": "code",
   "execution_count": 9,
   "id": "ac281362",
   "metadata": {},
   "outputs": [],
   "source": [
    "#import numpy\n",
    "import numpy as np\n",
    "import pandas as pd"
   ]
  },
  {
   "cell_type": "markdown",
   "id": "56275a4a",
   "metadata": {},
   "source": [
    "csv-Datei laden"
   ]
  },
  {
   "cell_type": "code",
   "execution_count": 12,
   "id": "2195b192",
   "metadata": {},
   "outputs": [
    {
     "data": {
      "text/html": [
       "<div>\n",
       "<style scoped>\n",
       "    .dataframe tbody tr th:only-of-type {\n",
       "        vertical-align: middle;\n",
       "    }\n",
       "\n",
       "    .dataframe tbody tr th {\n",
       "        vertical-align: top;\n",
       "    }\n",
       "\n",
       "    .dataframe thead th {\n",
       "        text-align: right;\n",
       "    }\n",
       "</style>\n",
       "<table border=\"1\" class=\"dataframe\">\n",
       "  <thead>\n",
       "    <tr style=\"text-align: right;\">\n",
       "      <th></th>\n",
       "      <th>Species</th>\n",
       "      <th>Color</th>\n",
       "      <th>Length (mm)</th>\n",
       "    </tr>\n",
       "  </thead>\n",
       "  <tbody>\n",
       "    <tr>\n",
       "      <th>0</th>\n",
       "      <td>Mobug</td>\n",
       "      <td>Brown</td>\n",
       "      <td>11.6</td>\n",
       "    </tr>\n",
       "    <tr>\n",
       "      <th>1</th>\n",
       "      <td>Mobug</td>\n",
       "      <td>Blue</td>\n",
       "      <td>16.3</td>\n",
       "    </tr>\n",
       "    <tr>\n",
       "      <th>2</th>\n",
       "      <td>Lobug</td>\n",
       "      <td>Blue</td>\n",
       "      <td>15.1</td>\n",
       "    </tr>\n",
       "    <tr>\n",
       "      <th>3</th>\n",
       "      <td>Lobug</td>\n",
       "      <td>Green</td>\n",
       "      <td>23.7</td>\n",
       "    </tr>\n",
       "    <tr>\n",
       "      <th>4</th>\n",
       "      <td>Lobug</td>\n",
       "      <td>Blue</td>\n",
       "      <td>18.4</td>\n",
       "    </tr>\n",
       "    <tr>\n",
       "      <th>5</th>\n",
       "      <td>Lobug</td>\n",
       "      <td>Brown</td>\n",
       "      <td>17.1</td>\n",
       "    </tr>\n",
       "    <tr>\n",
       "      <th>6</th>\n",
       "      <td>Mobug</td>\n",
       "      <td>Brown</td>\n",
       "      <td>15.7</td>\n",
       "    </tr>\n",
       "    <tr>\n",
       "      <th>7</th>\n",
       "      <td>Lobug</td>\n",
       "      <td>Green</td>\n",
       "      <td>18.6</td>\n",
       "    </tr>\n",
       "    <tr>\n",
       "      <th>8</th>\n",
       "      <td>Lobug</td>\n",
       "      <td>Blue</td>\n",
       "      <td>22.9</td>\n",
       "    </tr>\n",
       "    <tr>\n",
       "      <th>9</th>\n",
       "      <td>Lobug</td>\n",
       "      <td>Blue</td>\n",
       "      <td>21.0</td>\n",
       "    </tr>\n",
       "    <tr>\n",
       "      <th>10</th>\n",
       "      <td>Lobug</td>\n",
       "      <td>Blue</td>\n",
       "      <td>20.5</td>\n",
       "    </tr>\n",
       "    <tr>\n",
       "      <th>11</th>\n",
       "      <td>Mobug</td>\n",
       "      <td>Green</td>\n",
       "      <td>21.2</td>\n",
       "    </tr>\n",
       "    <tr>\n",
       "      <th>12</th>\n",
       "      <td>Mobug</td>\n",
       "      <td>Brown</td>\n",
       "      <td>13.8</td>\n",
       "    </tr>\n",
       "    <tr>\n",
       "      <th>13</th>\n",
       "      <td>Lobug</td>\n",
       "      <td>Blue</td>\n",
       "      <td>14.5</td>\n",
       "    </tr>\n",
       "    <tr>\n",
       "      <th>14</th>\n",
       "      <td>Lobug</td>\n",
       "      <td>Green</td>\n",
       "      <td>24.8</td>\n",
       "    </tr>\n",
       "    <tr>\n",
       "      <th>15</th>\n",
       "      <td>Mobug</td>\n",
       "      <td>Brown</td>\n",
       "      <td>18.2</td>\n",
       "    </tr>\n",
       "    <tr>\n",
       "      <th>16</th>\n",
       "      <td>Lobug</td>\n",
       "      <td>Green</td>\n",
       "      <td>17.9</td>\n",
       "    </tr>\n",
       "    <tr>\n",
       "      <th>17</th>\n",
       "      <td>Lobug</td>\n",
       "      <td>Green</td>\n",
       "      <td>22.7</td>\n",
       "    </tr>\n",
       "    <tr>\n",
       "      <th>18</th>\n",
       "      <td>Mobug</td>\n",
       "      <td>Green</td>\n",
       "      <td>19.9</td>\n",
       "    </tr>\n",
       "    <tr>\n",
       "      <th>19</th>\n",
       "      <td>Mobug</td>\n",
       "      <td>Blue</td>\n",
       "      <td>14.6</td>\n",
       "    </tr>\n",
       "    <tr>\n",
       "      <th>20</th>\n",
       "      <td>Mobug</td>\n",
       "      <td>Blue</td>\n",
       "      <td>19.2</td>\n",
       "    </tr>\n",
       "    <tr>\n",
       "      <th>21</th>\n",
       "      <td>Lobug</td>\n",
       "      <td>Brown</td>\n",
       "      <td>14.1</td>\n",
       "    </tr>\n",
       "    <tr>\n",
       "      <th>22</th>\n",
       "      <td>Lobug</td>\n",
       "      <td>Green</td>\n",
       "      <td>18.8</td>\n",
       "    </tr>\n",
       "    <tr>\n",
       "      <th>23</th>\n",
       "      <td>Mobug</td>\n",
       "      <td>Blue</td>\n",
       "      <td>13.1</td>\n",
       "    </tr>\n",
       "  </tbody>\n",
       "</table>\n",
       "</div>"
      ],
      "text/plain": [
       "   Species  Color  Length (mm)\n",
       "0    Mobug  Brown         11.6\n",
       "1    Mobug   Blue         16.3\n",
       "2    Lobug   Blue         15.1\n",
       "3    Lobug  Green         23.7\n",
       "4    Lobug   Blue         18.4\n",
       "5    Lobug  Brown         17.1\n",
       "6    Mobug  Brown         15.7\n",
       "7    Lobug  Green         18.6\n",
       "8    Lobug   Blue         22.9\n",
       "9    Lobug   Blue         21.0\n",
       "10   Lobug   Blue         20.5\n",
       "11   Mobug  Green         21.2\n",
       "12   Mobug  Brown         13.8\n",
       "13   Lobug   Blue         14.5\n",
       "14   Lobug  Green         24.8\n",
       "15   Mobug  Brown         18.2\n",
       "16   Lobug  Green         17.9\n",
       "17   Lobug  Green         22.7\n",
       "18   Mobug  Green         19.9\n",
       "19   Mobug   Blue         14.6\n",
       "20   Mobug   Blue         19.2\n",
       "21   Lobug  Brown         14.1\n",
       "22   Lobug  Green         18.8\n",
       "23   Mobug   Blue         13.1"
      ]
     },
     "execution_count": 12,
     "metadata": {},
     "output_type": "execute_result"
    }
   ],
   "source": [
    "df = dfmy = pd.read_csv('C:\\\\ThomasKraemer\\\\OneDrive\\\\03_Programmieren\\\\01_Workspaces\\\\Eclipse\\\\UdacityPyTest2\\\\ml-bugs.csv')\n",
    "df"
   ]
  },
  {
   "cell_type": "markdown",
   "id": "967129b2",
   "metadata": {},
   "source": [
    "Konvertiere nach numpy"
   ]
  },
  {
   "cell_type": "code",
   "execution_count": 493,
   "id": "aabbbe69",
   "metadata": {},
   "outputs": [
    {
     "data": {
      "text/plain": [
       "array(['Mobug', 'Mobug', 'Lobug', 'Lobug', 'Lobug', 'Lobug', 'Mobug',\n",
       "       'Lobug', 'Lobug', 'Lobug', 'Lobug', 'Mobug', 'Mobug', 'Lobug',\n",
       "       'Lobug', 'Mobug', 'Lobug', 'Lobug', 'Mobug', 'Mobug', 'Mobug',\n",
       "       'Lobug', 'Lobug', 'Mobug'], dtype=object)"
      ]
     },
     "execution_count": 493,
     "metadata": {},
     "output_type": "execute_result"
    }
   ],
   "source": [
    "y=df['Species'].to_numpy()\n",
    "y"
   ]
  },
  {
   "cell_type": "code",
   "execution_count": 494,
   "id": "9af5e250",
   "metadata": {},
   "outputs": [
    {
     "data": {
      "text/plain": [
       "array(['Brown', 'Blue', 'Blue', 'Green', 'Blue', 'Brown', 'Brown',\n",
       "       'Green', 'Blue', 'Blue', 'Blue', 'Green', 'Brown', 'Blue', 'Green',\n",
       "       'Brown', 'Green', 'Green', 'Green', 'Blue', 'Blue', 'Brown',\n",
       "       'Green', 'Blue'], dtype=object)"
      ]
     },
     "execution_count": 494,
     "metadata": {},
     "output_type": "execute_result"
    }
   ],
   "source": [
    "color=df['Color'].to_numpy()\n",
    "color"
   ]
  },
  {
   "cell_type": "code",
   "execution_count": 495,
   "id": "ac467ae3",
   "metadata": {},
   "outputs": [
    {
     "data": {
      "text/plain": [
       "array([11.6, 16.3, 15.1, 23.7, 18.4, 17.1, 15.7, 18.6, 22.9, 21. , 20.5,\n",
       "       21.2, 13.8, 14.5, 24.8, 18.2, 17.9, 22.7, 19.9, 14.6, 19.2, 14.1,\n",
       "       18.8, 13.1])"
      ]
     },
     "execution_count": 495,
     "metadata": {},
     "output_type": "execute_result"
    }
   ],
   "source": [
    "length=df['Length (mm)'].to_numpy()\n",
    "length"
   ]
  },
  {
   "cell_type": "markdown",
   "id": "e77be988",
   "metadata": {},
   "source": [
    "## Entropie State0"
   ]
  },
  {
   "cell_type": "code",
   "execution_count": 496,
   "id": "e673cc3f",
   "metadata": {},
   "outputs": [
    {
     "name": "stdout",
     "output_type": "stream",
     "text": [
      "['Mobug' 'Mobug' 'Mobug' 'Mobug' 'Mobug' 'Mobug' 'Mobug' 'Mobug' 'Mobug'\n",
      " 'Mobug']\n"
     ]
    },
    {
     "data": {
      "text/plain": [
       "10"
      ]
     },
     "execution_count": 496,
     "metadata": {},
     "output_type": "execute_result"
    }
   ],
   "source": [
    "# sumy1 = Summe(y1)\n",
    "helper = y[y=='Mobug']\n",
    "print(helper)\n",
    "sumy1 = helper.size\n",
    "sumy1\n"
   ]
  },
  {
   "cell_type": "code",
   "execution_count": 497,
   "id": "5ecc3d4c",
   "metadata": {},
   "outputs": [
    {
     "name": "stdout",
     "output_type": "stream",
     "text": [
      "['Lobug' 'Lobug' 'Lobug' 'Lobug' 'Lobug' 'Lobug' 'Lobug' 'Lobug' 'Lobug'\n",
      " 'Lobug' 'Lobug' 'Lobug' 'Lobug' 'Lobug']\n"
     ]
    },
    {
     "data": {
      "text/plain": [
       "14"
      ]
     },
     "execution_count": 497,
     "metadata": {},
     "output_type": "execute_result"
    }
   ],
   "source": [
    "# sumy2 = Summe(y2)\n",
    "helper = y[y=='Lobug']\n",
    "print(helper)\n",
    "sumy2 = helper.size\n",
    "sumy2"
   ]
  },
  {
   "cell_type": "code",
   "execution_count": 498,
   "id": "9342b4a9",
   "metadata": {},
   "outputs": [
    {
     "name": "stdout",
     "output_type": "stream",
     "text": [
      "0.4166666666666667\n",
      "0.5833333333333334\n"
     ]
    }
   ],
   "source": [
    "p1 = sumy1/(sumy1+sumy2)\n",
    "p2 = sumy2/(sumy1+sumy2)\n",
    "print(p1)\n",
    "print(p2)"
   ]
  },
  {
   "cell_type": "code",
   "execution_count": 499,
   "id": "ccb504bc",
   "metadata": {},
   "outputs": [
    {
     "data": {
      "text/plain": [
       "0.9798687566511528"
      ]
     },
     "execution_count": 499,
     "metadata": {},
     "output_type": "execute_result"
    }
   ],
   "source": [
    "E0 = -1*(p1*np.log2(p1)+p2*np.log2(p2))\n",
    "E0"
   ]
  },
  {
   "cell_type": "markdown",
   "id": "fb55a727",
   "metadata": {},
   "source": [
    "## Entropie Split1"
   ]
  },
  {
   "cell_type": "markdown",
   "id": "ace0be82",
   "metadata": {},
   "source": [
    "### ESplit1Blue"
   ]
  },
  {
   "cell_type": "code",
   "execution_count": 500,
   "id": "42076545",
   "metadata": {},
   "outputs": [],
   "source": [
    "y1ones=np.zeros((y.size,1))\n",
    "for i in range(0,y.size) :\n",
    "    if (y[i] == 'Mobug'):\n",
    "       y1ones[i] = 1\n",
    "#print(y1ones)"
   ]
  },
  {
   "cell_type": "code",
   "execution_count": 501,
   "id": "b362b5b9",
   "metadata": {},
   "outputs": [],
   "source": [
    "y2ones=np.zeros((y.size,1))\n",
    "for i in range(0,y.size) :\n",
    "    if (y[i] == 'Lobug'):\n",
    "       y2ones[i] = 1\n",
    "#print(y2ones)"
   ]
  },
  {
   "cell_type": "code",
   "execution_count": 502,
   "id": "3c1bbd07",
   "metadata": {},
   "outputs": [],
   "source": [
    "Blueones=np.zeros((color.size,1))\n",
    "for i in range(0,y.size) :\n",
    "    if (color[i] == 'Blue'):\n",
    "       Blueones[i] = 1\n",
    "#Blueones"
   ]
  },
  {
   "cell_type": "code",
   "execution_count": 503,
   "id": "b76c528a",
   "metadata": {},
   "outputs": [],
   "source": [
    "Greenones=np.zeros((color.size,1))\n",
    "for i in range(0,y.size) :\n",
    "    if (color[i] == 'Green'):\n",
    "       Greenones[i] = 1\n",
    "#Greenones"
   ]
  },
  {
   "cell_type": "code",
   "execution_count": 504,
   "id": "215814a6",
   "metadata": {},
   "outputs": [],
   "source": [
    "Brownones=np.zeros((color.size,1))\n",
    "for i in range(0,y.size) :\n",
    "    if (color[i] == 'Brown'):\n",
    "       Brownones[i] = 1\n",
    "#Brownones"
   ]
  },
  {
   "cell_type": "code",
   "execution_count": 505,
   "id": "df863e85",
   "metadata": {},
   "outputs": [
    {
     "data": {
      "text/plain": [
       "array([[4.]])"
      ]
     },
     "execution_count": 505,
     "metadata": {},
     "output_type": "execute_result"
    }
   ],
   "source": [
    "BlueAndy1=np.dot(y1ones.reshape(1,y1ones.size),Blueones.reshape((Blueones.size,1)))\n",
    "BlueAndy1"
   ]
  },
  {
   "cell_type": "code",
   "execution_count": 506,
   "id": "23bceb13",
   "metadata": {},
   "outputs": [
    {
     "data": {
      "text/plain": [
       "array([[6.]])"
      ]
     },
     "execution_count": 506,
     "metadata": {},
     "output_type": "execute_result"
    }
   ],
   "source": [
    "BlueAndy2=np.dot(y2ones.reshape(1,y2ones.size),Blueones.reshape((Blueones.size,1)))\n",
    "BlueAndy2"
   ]
  },
  {
   "cell_type": "code",
   "execution_count": 507,
   "id": "a00eb989",
   "metadata": {},
   "outputs": [
    {
     "data": {
      "text/plain": [
       "array([[2.]])"
      ]
     },
     "execution_count": 507,
     "metadata": {},
     "output_type": "execute_result"
    }
   ],
   "source": [
    "GreenAndy1=np.dot(y1ones.reshape(1,y1ones.size),Greenones.reshape((Greenones.size,1)))\n",
    "GreenAndy1"
   ]
  },
  {
   "cell_type": "code",
   "execution_count": 508,
   "id": "592fd7c8",
   "metadata": {},
   "outputs": [
    {
     "data": {
      "text/plain": [
       "array([[6.]])"
      ]
     },
     "execution_count": 508,
     "metadata": {},
     "output_type": "execute_result"
    }
   ],
   "source": [
    "GreenAndy2=np.dot(y2ones.reshape(1,y2ones.size),Greenones.reshape((Greenones.size,1)))\n",
    "GreenAndy2"
   ]
  },
  {
   "cell_type": "code",
   "execution_count": 509,
   "id": "02c8c1da",
   "metadata": {},
   "outputs": [
    {
     "data": {
      "text/plain": [
       "array([[4.]])"
      ]
     },
     "execution_count": 509,
     "metadata": {},
     "output_type": "execute_result"
    }
   ],
   "source": [
    "BrownAndy1=np.dot(y1ones.reshape(1,y1ones.size),Brownones.reshape((Brownones.size,1)))\n",
    "BrownAndy1"
   ]
  },
  {
   "cell_type": "code",
   "execution_count": 510,
   "id": "12ec030e",
   "metadata": {},
   "outputs": [
    {
     "data": {
      "text/plain": [
       "array([[2.]])"
      ]
     },
     "execution_count": 510,
     "metadata": {},
     "output_type": "execute_result"
    }
   ],
   "source": [
    "BrownAndy2=np.dot(y2ones.reshape(1,y2ones.size),Brownones.reshape((Brownones.size,1)))\n",
    "BrownAndy2"
   ]
  },
  {
   "cell_type": "code",
   "execution_count": 511,
   "id": "e07b9992",
   "metadata": {},
   "outputs": [
    {
     "data": {
      "text/plain": [
       "0.4"
      ]
     },
     "execution_count": 511,
     "metadata": {},
     "output_type": "execute_result"
    }
   ],
   "source": [
    "p1=np.ndarray.item(BlueAndy1/(BlueAndy1+BlueAndy2))\n",
    "p1"
   ]
  },
  {
   "cell_type": "code",
   "execution_count": 512,
   "id": "2d00696f",
   "metadata": {},
   "outputs": [
    {
     "data": {
      "text/plain": [
       "0.6"
      ]
     },
     "execution_count": 512,
     "metadata": {},
     "output_type": "execute_result"
    }
   ],
   "source": [
    "p2=np.ndarray.item(BlueAndy2/(BlueAndy1+BlueAndy2))\n",
    "p2"
   ]
  },
  {
   "cell_type": "code",
   "execution_count": 513,
   "id": "30afa232",
   "metadata": {},
   "outputs": [
    {
     "data": {
      "text/plain": [
       "0.9709505944546686"
      ]
     },
     "execution_count": 513,
     "metadata": {},
     "output_type": "execute_result"
    }
   ],
   "source": [
    "EBlue= -1*(p1*np.log2(p1)+p2*np.log2(p2))\n",
    "EBlue"
   ]
  },
  {
   "cell_type": "code",
   "execution_count": 514,
   "id": "7b3be69a",
   "metadata": {},
   "outputs": [],
   "source": [
    "#Green and Brown"
   ]
  },
  {
   "cell_type": "code",
   "execution_count": 515,
   "id": "f00dd7d3",
   "metadata": {},
   "outputs": [
    {
     "data": {
      "text/plain": [
       "array([[6.]])"
      ]
     },
     "execution_count": 515,
     "metadata": {},
     "output_type": "execute_result"
    }
   ],
   "source": [
    "GreenBrowny1 = GreenAndy1 + BrownAndy1\n",
    "GreenBrowny1"
   ]
  },
  {
   "cell_type": "code",
   "execution_count": 516,
   "id": "88475590",
   "metadata": {},
   "outputs": [
    {
     "data": {
      "text/plain": [
       "array([[8.]])"
      ]
     },
     "execution_count": 516,
     "metadata": {},
     "output_type": "execute_result"
    }
   ],
   "source": [
    "GreenBrowny2 = GreenAndy2 + BrownAndy2\n",
    "GreenBrowny2"
   ]
  },
  {
   "cell_type": "code",
   "execution_count": 517,
   "id": "46720d10",
   "metadata": {},
   "outputs": [
    {
     "data": {
      "text/plain": [
       "0.42857142857142855"
      ]
     },
     "execution_count": 517,
     "metadata": {},
     "output_type": "execute_result"
    }
   ],
   "source": [
    "p1=np.ndarray.item(GreenBrowny1/(GreenBrowny1+GreenBrowny2))\n",
    "p1"
   ]
  },
  {
   "cell_type": "code",
   "execution_count": 518,
   "id": "91b34146",
   "metadata": {},
   "outputs": [
    {
     "data": {
      "text/plain": [
       "0.5714285714285714"
      ]
     },
     "execution_count": 518,
     "metadata": {},
     "output_type": "execute_result"
    }
   ],
   "source": [
    "p2=np.ndarray.item(GreenBrowny2/(GreenBrowny1+GreenBrowny2))\n",
    "p2"
   ]
  },
  {
   "cell_type": "code",
   "execution_count": 519,
   "id": "983c49fc",
   "metadata": {},
   "outputs": [
    {
     "data": {
      "text/plain": [
       "0.9852281360342515"
      ]
     },
     "execution_count": 519,
     "metadata": {},
     "output_type": "execute_result"
    }
   ],
   "source": [
    "EGreenBrown = -1*(p1*np.log2(p1)+p2*np.log2(p2))\n",
    "EGreenBrown"
   ]
  },
  {
   "cell_type": "code",
   "execution_count": 520,
   "id": "850a9fe6",
   "metadata": {},
   "outputs": [
    {
     "data": {
      "text/plain": [
       "0.0017793914066928096"
      ]
     },
     "execution_count": 520,
     "metadata": {},
     "output_type": "execute_result"
    }
   ],
   "source": [
    "IGBlue = E0 - 0.5*(EBlue + EGreenBrown)\n",
    "IGBlue"
   ]
  },
  {
   "cell_type": "code",
   "execution_count": 521,
   "id": "e892c584",
   "metadata": {},
   "outputs": [
    {
     "data": {
      "text/plain": [
       "array([[2.]])"
      ]
     },
     "execution_count": 521,
     "metadata": {},
     "output_type": "execute_result"
    }
   ],
   "source": [
    "GreenAndy1"
   ]
  },
  {
   "cell_type": "code",
   "execution_count": 522,
   "id": "d10dc3f7",
   "metadata": {},
   "outputs": [
    {
     "data": {
      "text/plain": [
       "array([[6.]])"
      ]
     },
     "execution_count": 522,
     "metadata": {},
     "output_type": "execute_result"
    }
   ],
   "source": [
    "GreenAndy2"
   ]
  },
  {
   "cell_type": "code",
   "execution_count": 523,
   "id": "fc6f233c",
   "metadata": {},
   "outputs": [
    {
     "data": {
      "text/plain": [
       "0.25"
      ]
     },
     "execution_count": 523,
     "metadata": {},
     "output_type": "execute_result"
    }
   ],
   "source": [
    "p1=np.ndarray.item(GreenAndy1/(GreenAndy1+GreenAndy2))\n",
    "p1"
   ]
  },
  {
   "cell_type": "code",
   "execution_count": 524,
   "id": "54ec4a4d",
   "metadata": {},
   "outputs": [
    {
     "data": {
      "text/plain": [
       "0.75"
      ]
     },
     "execution_count": 524,
     "metadata": {},
     "output_type": "execute_result"
    }
   ],
   "source": [
    "p2=np.ndarray.item(GreenAndy2/(GreenAndy1+GreenAndy2))\n",
    "p2"
   ]
  },
  {
   "cell_type": "code",
   "execution_count": 525,
   "id": "32b1e934",
   "metadata": {},
   "outputs": [
    {
     "data": {
      "text/plain": [
       "0.8112781244591328"
      ]
     },
     "execution_count": 525,
     "metadata": {},
     "output_type": "execute_result"
    }
   ],
   "source": [
    "EGreen= -1*(p1*np.log2(p1)+p2*np.log2(p2))\n",
    "EGreen"
   ]
  },
  {
   "cell_type": "code",
   "execution_count": 526,
   "id": "29b0821d",
   "metadata": {},
   "outputs": [
    {
     "data": {
      "text/plain": [
       "array([[6.]])"
      ]
     },
     "execution_count": 526,
     "metadata": {},
     "output_type": "execute_result"
    }
   ],
   "source": [
    "# Blue and Green\n",
    "GreenBlue1 = GreenAndy1 + BlueAndy1\n",
    "GreenBlue1"
   ]
  },
  {
   "cell_type": "code",
   "execution_count": 527,
   "id": "d3e8d036",
   "metadata": {},
   "outputs": [
    {
     "data": {
      "text/plain": [
       "array([[12.]])"
      ]
     },
     "execution_count": 527,
     "metadata": {},
     "output_type": "execute_result"
    }
   ],
   "source": [
    "GreenBlue2 = GreenAndy2 + BlueAndy2\n",
    "GreenBlue2"
   ]
  },
  {
   "cell_type": "code",
   "execution_count": 528,
   "id": "ac0f4ddd",
   "metadata": {},
   "outputs": [
    {
     "data": {
      "text/plain": [
       "0.3333333333333333"
      ]
     },
     "execution_count": 528,
     "metadata": {},
     "output_type": "execute_result"
    }
   ],
   "source": [
    "p1=np.ndarray.item(GreenBlue1/(GreenBlue1+GreenBlue2))\n",
    "p1"
   ]
  },
  {
   "cell_type": "code",
   "execution_count": 529,
   "id": "d6c7092e",
   "metadata": {},
   "outputs": [
    {
     "data": {
      "text/plain": [
       "0.6666666666666666"
      ]
     },
     "execution_count": 529,
     "metadata": {},
     "output_type": "execute_result"
    }
   ],
   "source": [
    "p2=np.ndarray.item(GreenBlue2/(GreenBlue1+GreenBlue2))\n",
    "p2"
   ]
  },
  {
   "cell_type": "code",
   "execution_count": 530,
   "id": "a52cf73a",
   "metadata": {},
   "outputs": [
    {
     "data": {
      "text/plain": [
       "0.9182958340544896"
      ]
     },
     "execution_count": 530,
     "metadata": {},
     "output_type": "execute_result"
    }
   ],
   "source": [
    "EGreenBlue = -1*(p1*np.log2(p1)+p2*np.log2(p2))\n",
    "EGreenBlue"
   ]
  },
  {
   "cell_type": "code",
   "execution_count": 531,
   "id": "8f7e5f01",
   "metadata": {},
   "outputs": [
    {
     "data": {
      "text/plain": [
       "0.6666666666666666"
      ]
     },
     "execution_count": 531,
     "metadata": {},
     "output_type": "execute_result"
    }
   ],
   "source": [
    "p1=np.ndarray.item(BrownAndy2/(BrownAndy1+BrownAndy2))\n",
    "p2"
   ]
  },
  {
   "cell_type": "code",
   "execution_count": 532,
   "id": "87bc4de1",
   "metadata": {},
   "outputs": [
    {
     "data": {
      "text/plain": [
       "0.9182958340544896"
      ]
     },
     "execution_count": 532,
     "metadata": {},
     "output_type": "execute_result"
    }
   ],
   "source": [
    "EBrown= -1*(p1*np.log2(p1)+p2*np.log2(p2))\n",
    "EBrown"
   ]
  },
  {
   "cell_type": "code",
   "execution_count": 533,
   "id": "7f605b45",
   "metadata": {},
   "outputs": [
    {
     "data": {
      "text/plain": [
       "0.06157292259666325"
      ]
     },
     "execution_count": 533,
     "metadata": {},
     "output_type": "execute_result"
    }
   ],
   "source": [
    "IGBrown = E0 - 0.5*(EBrown + EGreenBlue)\n",
    "IGBrown"
   ]
  },
  {
   "cell_type": "code",
   "execution_count": 534,
   "id": "d4cfe139",
   "metadata": {},
   "outputs": [
    {
     "data": {
      "text/plain": [
       "array([[8.]])"
      ]
     },
     "execution_count": 534,
     "metadata": {},
     "output_type": "execute_result"
    }
   ],
   "source": [
    "# Blue and Green\n",
    "BrownBlue1 = BrownAndy1 + BlueAndy1\n",
    "BrownBlue1"
   ]
  },
  {
   "cell_type": "code",
   "execution_count": 535,
   "id": "6f470d2e",
   "metadata": {},
   "outputs": [
    {
     "data": {
      "text/plain": [
       "array([[8.]])"
      ]
     },
     "execution_count": 535,
     "metadata": {},
     "output_type": "execute_result"
    }
   ],
   "source": [
    "BrownBlue2 = BrownAndy2 + BlueAndy2\n",
    "BrownBlue2"
   ]
  },
  {
   "cell_type": "code",
   "execution_count": 536,
   "id": "3f4756e4",
   "metadata": {},
   "outputs": [
    {
     "data": {
      "text/plain": [
       "0.5"
      ]
     },
     "execution_count": 536,
     "metadata": {},
     "output_type": "execute_result"
    }
   ],
   "source": [
    "p1=np.ndarray.item(BrownBlue1/(BrownBlue1+BrownBlue2))\n",
    "p1"
   ]
  },
  {
   "cell_type": "code",
   "execution_count": 537,
   "id": "afa32b09",
   "metadata": {},
   "outputs": [
    {
     "data": {
      "text/plain": [
       "0.5"
      ]
     },
     "execution_count": 537,
     "metadata": {},
     "output_type": "execute_result"
    }
   ],
   "source": [
    "p2=np.ndarray.item(BrownBlue2/(BrownBlue1+BrownBlue2))\n",
    "p2"
   ]
  },
  {
   "cell_type": "code",
   "execution_count": 538,
   "id": "c1ba51b4",
   "metadata": {},
   "outputs": [
    {
     "data": {
      "text/plain": [
       "1.0"
      ]
     },
     "execution_count": 538,
     "metadata": {},
     "output_type": "execute_result"
    }
   ],
   "source": [
    "EBrownBlue = -1*(p1*np.log2(p1)+p2*np.log2(p2))\n",
    "EBrownBlue"
   ]
  },
  {
   "cell_type": "code",
   "execution_count": 539,
   "id": "6465c871",
   "metadata": {},
   "outputs": [
    {
     "data": {
      "text/plain": [
       "0.07422969442158633"
      ]
     },
     "execution_count": 539,
     "metadata": {},
     "output_type": "execute_result"
    }
   ],
   "source": [
    "IGGreen = E0 - 0.5*(EGreen + EBrownBlue)\n",
    "IGGreen"
   ]
  },
  {
   "cell_type": "markdown",
   "id": "8cc1f765",
   "metadata": {},
   "source": [
    "## Y2"
   ]
  },
  {
   "cell_type": "code",
   "execution_count": 540,
   "id": "60938ef1",
   "metadata": {},
   "outputs": [
    {
     "data": {
      "text/plain": [
       "array([11.6, 16.3, 15.1, 23.7, 18.4, 17.1, 15.7, 18.6, 22.9, 21. , 20.5,\n",
       "       21.2, 13.8, 14.5, 24.8, 18.2, 17.9, 22.7, 19.9, 14.6, 19.2, 14.1,\n",
       "       18.8, 13.1])"
      ]
     },
     "execution_count": 540,
     "metadata": {},
     "output_type": "execute_result"
    }
   ],
   "source": [
    "length"
   ]
  },
  {
   "cell_type": "code",
   "execution_count": 541,
   "id": "29ef3c9f",
   "metadata": {},
   "outputs": [],
   "source": [
    "SmallY1nones=np.zeros((color.size,1))\n",
    "for i in range(0,y.size) :\n",
    "    if (y[i] == 'Mobug') & (length[i]<17):\n",
    "       SmallY1nones[i] = 1\n",
    "#SmallY1nones"
   ]
  },
  {
   "cell_type": "code",
   "execution_count": 542,
   "id": "971519a2",
   "metadata": {},
   "outputs": [
    {
     "data": {
      "text/plain": [
       "6.0"
      ]
     },
     "execution_count": 542,
     "metadata": {},
     "output_type": "execute_result"
    }
   ],
   "source": [
    "SmallY1Sum = SmallY1nones.sum()\n",
    "SmallY1Sum"
   ]
  },
  {
   "cell_type": "code",
   "execution_count": 543,
   "id": "270032a0",
   "metadata": {},
   "outputs": [],
   "source": [
    "SmallY2nones=np.zeros((color.size,1))\n",
    "for i in range(0,y.size) :\n",
    "    if (y[i] == 'Lobug') & (length[i]<17):\n",
    "       SmallY2nones[i] = 1\n",
    "#SmallY2nones"
   ]
  },
  {
   "cell_type": "code",
   "execution_count": 544,
   "id": "f9cb43e1",
   "metadata": {},
   "outputs": [
    {
     "data": {
      "text/plain": [
       "3.0"
      ]
     },
     "execution_count": 544,
     "metadata": {},
     "output_type": "execute_result"
    }
   ],
   "source": [
    "SmallY2Sum = SmallY2nones.sum()\n",
    "SmallY2Sum"
   ]
  },
  {
   "cell_type": "code",
   "execution_count": 545,
   "id": "b8fc0391",
   "metadata": {},
   "outputs": [],
   "source": [
    "p1=SmallY1Sum/(SmallY1Sum + SmallY2Sum)"
   ]
  },
  {
   "cell_type": "code",
   "execution_count": 546,
   "id": "1ea3e6d7",
   "metadata": {},
   "outputs": [],
   "source": [
    "p2=SmallY2Sum/(SmallY1Sum + SmallY2Sum)"
   ]
  },
  {
   "cell_type": "code",
   "execution_count": 547,
   "id": "95b2bb54",
   "metadata": {},
   "outputs": [
    {
     "data": {
      "text/plain": [
       "0.9182958340544896"
      ]
     },
     "execution_count": 547,
     "metadata": {},
     "output_type": "execute_result"
    }
   ],
   "source": [
    "ESmall = -1*(p1*np.log2(p1)+p2*np.log2(p2))\n",
    "ESmall"
   ]
  },
  {
   "cell_type": "code",
   "execution_count": 548,
   "id": "9b780263",
   "metadata": {},
   "outputs": [],
   "source": [
    "SmallY1nonesRest=np.zeros((color.size,1))\n",
    "for i in range(0,y.size) :\n",
    "    if (y[i] == 'Mobug') & (length[i]>17):\n",
    "       SmallY1nonesRest[i] = 1\n",
    "#SmallY1nonesRest"
   ]
  },
  {
   "cell_type": "code",
   "execution_count": 549,
   "id": "19464fc8",
   "metadata": {},
   "outputs": [
    {
     "data": {
      "text/plain": [
       "4.0"
      ]
     },
     "execution_count": 549,
     "metadata": {},
     "output_type": "execute_result"
    }
   ],
   "source": [
    "SmallY1SumRest = SmallY1nonesRest.sum()\n",
    "SmallY1SumRest"
   ]
  },
  {
   "cell_type": "code",
   "execution_count": 550,
   "id": "90e88ca8",
   "metadata": {},
   "outputs": [],
   "source": [
    "SmallY2nonesRest=np.zeros((color.size,1))\n",
    "for i in range(0,y.size) :\n",
    "    if (y[i] == 'Lobug') & (length[i]>17):\n",
    "       SmallY2nonesRest[i] = 1\n",
    "#SmallY2nonesRest"
   ]
  },
  {
   "cell_type": "code",
   "execution_count": 551,
   "id": "73b19cd9",
   "metadata": {},
   "outputs": [
    {
     "data": {
      "text/plain": [
       "11.0"
      ]
     },
     "execution_count": 551,
     "metadata": {},
     "output_type": "execute_result"
    }
   ],
   "source": [
    "SmallY2SumRest = SmallY2nonesRest.sum()\n",
    "SmallY2SumRest"
   ]
  },
  {
   "cell_type": "code",
   "execution_count": 552,
   "id": "0c53f8ea",
   "metadata": {},
   "outputs": [],
   "source": [
    "p1=SmallY1SumRest/(SmallY1SumRest + SmallY2SumRest)"
   ]
  },
  {
   "cell_type": "code",
   "execution_count": 553,
   "id": "069d6568",
   "metadata": {},
   "outputs": [],
   "source": [
    "p2=SmallY2SumRest/(SmallY1SumRest + SmallY2SumRest)"
   ]
  },
  {
   "cell_type": "code",
   "execution_count": 554,
   "id": "29e58e8a",
   "metadata": {},
   "outputs": [
    {
     "data": {
      "text/plain": [
       "0.8366407419411672"
      ]
     },
     "execution_count": 554,
     "metadata": {},
     "output_type": "execute_result"
    }
   ],
   "source": [
    "ESmallRest = -1*(p1*np.log2(p1)+p2*np.log2(p2))\n",
    "ESmallRest"
   ]
  },
  {
   "cell_type": "code",
   "execution_count": 555,
   "id": "f0a64581",
   "metadata": {},
   "outputs": [
    {
     "data": {
      "text/plain": [
       "0.10240046865332442"
      ]
     },
     "execution_count": 555,
     "metadata": {},
     "output_type": "execute_result"
    }
   ],
   "source": [
    "IGSmall = E0 - 0.5* (ESmall+ESmallRest)\n",
    "IGSmall"
   ]
  },
  {
   "cell_type": "code",
   "execution_count": 556,
   "id": "7f356a08",
   "metadata": {},
   "outputs": [
    {
     "data": {
      "text/plain": [
       "0.9798687566511528"
      ]
     },
     "execution_count": 556,
     "metadata": {},
     "output_type": "execute_result"
    }
   ],
   "source": [
    "E0"
   ]
  },
  {
   "cell_type": "code",
   "execution_count": null,
   "id": "a765b0e7",
   "metadata": {},
   "outputs": [],
   "source": []
  },
  {
   "cell_type": "code",
   "execution_count": 557,
   "id": "5c70bc00",
   "metadata": {},
   "outputs": [],
   "source": [
    "BigY1nones=np.zeros((color.size,1))\n",
    "for i in range(0,y.size) :\n",
    "    if (y[i] == 'Mobug') & (length[i]<20):\n",
    "       BigY1nones[i] = 1\n",
    "#BigY1nones"
   ]
  },
  {
   "cell_type": "code",
   "execution_count": 558,
   "id": "207f345d",
   "metadata": {},
   "outputs": [
    {
     "data": {
      "text/plain": [
       "6.0"
      ]
     },
     "execution_count": 558,
     "metadata": {},
     "output_type": "execute_result"
    }
   ],
   "source": [
    "BigY1Sum = SmallY1nones.sum()\n",
    "BigY1Sum"
   ]
  },
  {
   "cell_type": "code",
   "execution_count": 559,
   "id": "dffe6df1",
   "metadata": {},
   "outputs": [
    {
     "data": {
      "text/plain": [
       "array([[0.],\n",
       "       [0.],\n",
       "       [1.],\n",
       "       [0.],\n",
       "       [1.],\n",
       "       [1.],\n",
       "       [0.],\n",
       "       [1.],\n",
       "       [0.],\n",
       "       [0.],\n",
       "       [0.],\n",
       "       [0.],\n",
       "       [0.],\n",
       "       [1.],\n",
       "       [0.],\n",
       "       [0.],\n",
       "       [1.],\n",
       "       [0.],\n",
       "       [0.],\n",
       "       [0.],\n",
       "       [0.],\n",
       "       [1.],\n",
       "       [1.],\n",
       "       [0.]])"
      ]
     },
     "execution_count": 559,
     "metadata": {},
     "output_type": "execute_result"
    }
   ],
   "source": [
    "BigY2nones=np.zeros((color.size,1))\n",
    "for i in range(0,y.size) :\n",
    "    if (y[i] == 'Lobug') & (length[i]<20):\n",
    "       BigY2nones[i] = 1\n",
    "BigY2nones"
   ]
  },
  {
   "cell_type": "code",
   "execution_count": 560,
   "id": "adef621c",
   "metadata": {},
   "outputs": [
    {
     "data": {
      "text/plain": [
       "3.0"
      ]
     },
     "execution_count": 560,
     "metadata": {},
     "output_type": "execute_result"
    }
   ],
   "source": [
    "BigY2Sum = SmallY2nones.sum()\n",
    "BigY2Sum"
   ]
  },
  {
   "cell_type": "markdown",
   "id": "0a430ce7",
   "metadata": {},
   "source": [
    "IGSmall = ? "
   ]
  },
  {
   "cell_type": "code",
   "execution_count": 561,
   "id": "11cfc8ce",
   "metadata": {},
   "outputs": [
    {
     "data": {
      "text/plain": [
       "array([[0.],\n",
       "       [0.],\n",
       "       [0.],\n",
       "       [0.],\n",
       "       [0.],\n",
       "       [0.],\n",
       "       [0.],\n",
       "       [0.],\n",
       "       [0.],\n",
       "       [0.],\n",
       "       [0.],\n",
       "       [1.],\n",
       "       [0.],\n",
       "       [0.],\n",
       "       [0.],\n",
       "       [0.],\n",
       "       [0.],\n",
       "       [0.],\n",
       "       [0.],\n",
       "       [0.],\n",
       "       [0.],\n",
       "       [0.],\n",
       "       [0.],\n",
       "       [0.]])"
      ]
     },
     "execution_count": 561,
     "metadata": {},
     "output_type": "execute_result"
    }
   ],
   "source": [
    "BigY1nonesRest=np.zeros((color.size,1))\n",
    "for i in range(0,y.size) :\n",
    "    if (y[i] == 'Mobug') & (length[i]>20):\n",
    "       BigY1nonesRest[i] = 1\n",
    "BigY1nonesRest"
   ]
  },
  {
   "cell_type": "code",
   "execution_count": 562,
   "id": "d38ca9a1",
   "metadata": {},
   "outputs": [
    {
     "data": {
      "text/plain": [
       "1.0"
      ]
     },
     "execution_count": 562,
     "metadata": {},
     "output_type": "execute_result"
    }
   ],
   "source": [
    "BigY1SumRest = BigY1nonesRest.sum()\n",
    "BigY1SumRest"
   ]
  },
  {
   "cell_type": "code",
   "execution_count": 563,
   "id": "af37ce41",
   "metadata": {},
   "outputs": [
    {
     "data": {
      "text/plain": [
       "array([[0.],\n",
       "       [0.],\n",
       "       [0.],\n",
       "       [1.],\n",
       "       [0.],\n",
       "       [0.],\n",
       "       [0.],\n",
       "       [0.],\n",
       "       [1.],\n",
       "       [1.],\n",
       "       [1.],\n",
       "       [0.],\n",
       "       [0.],\n",
       "       [0.],\n",
       "       [1.],\n",
       "       [0.],\n",
       "       [0.],\n",
       "       [1.],\n",
       "       [0.],\n",
       "       [0.],\n",
       "       [0.],\n",
       "       [0.],\n",
       "       [0.],\n",
       "       [0.]])"
      ]
     },
     "execution_count": 563,
     "metadata": {},
     "output_type": "execute_result"
    }
   ],
   "source": [
    "BigY2nonesRest=np.zeros((color.size,1))\n",
    "for i in range(0,y.size) :\n",
    "    if (y[i] == 'Lobug') & (length[i]>20):\n",
    "       BigY2nonesRest[i] = 1\n",
    "BigY2nonesRest"
   ]
  },
  {
   "cell_type": "code",
   "execution_count": 564,
   "id": "c6dbb990",
   "metadata": {},
   "outputs": [
    {
     "data": {
      "text/plain": [
       "6.0"
      ]
     },
     "execution_count": 564,
     "metadata": {},
     "output_type": "execute_result"
    }
   ],
   "source": [
    "BigY2SumRest = BigY2nonesRest.sum()\n",
    "BigY2SumRest"
   ]
  },
  {
   "cell_type": "code",
   "execution_count": 565,
   "id": "48e51a3b",
   "metadata": {},
   "outputs": [],
   "source": [
    "p1=BigY1Sum/(BigY1Sum + BigY2Sum)"
   ]
  },
  {
   "cell_type": "code",
   "execution_count": 566,
   "id": "26591998",
   "metadata": {},
   "outputs": [],
   "source": [
    "p2=BigY2Sum/(BigY1Sum + BigY2Sum)"
   ]
  },
  {
   "cell_type": "code",
   "execution_count": 567,
   "id": "cc216f48",
   "metadata": {},
   "outputs": [
    {
     "data": {
      "text/plain": [
       "0.9182958340544896"
      ]
     },
     "execution_count": 567,
     "metadata": {},
     "output_type": "execute_result"
    }
   ],
   "source": [
    "EBig = -1*(p1*np.log2(p1)+p2*np.log2(p2))\n",
    "EBig"
   ]
  },
  {
   "cell_type": "code",
   "execution_count": 568,
   "id": "26d4cb0b",
   "metadata": {},
   "outputs": [],
   "source": [
    "p1=BigY1SumRest/(BigY1SumRest + BigY2SumRest)"
   ]
  },
  {
   "cell_type": "code",
   "execution_count": 569,
   "id": "fc530165",
   "metadata": {},
   "outputs": [],
   "source": [
    "p2=BigY2SumRest/(BigY1SumRest + BigY2SumRest)"
   ]
  },
  {
   "cell_type": "code",
   "execution_count": 570,
   "id": "981843be",
   "metadata": {},
   "outputs": [
    {
     "data": {
      "text/plain": [
       "0.5916727785823275"
      ]
     },
     "execution_count": 570,
     "metadata": {},
     "output_type": "execute_result"
    }
   ],
   "source": [
    "EBigRest = -1*(p1*np.log2(p1)+p2*np.log2(p2))\n",
    "EBigRest"
   ]
  },
  {
   "cell_type": "code",
   "execution_count": 571,
   "id": "b34c6c56",
   "metadata": {},
   "outputs": [
    {
     "data": {
      "text/plain": [
       "0.2248844503327443"
      ]
     },
     "execution_count": 571,
     "metadata": {},
     "output_type": "execute_result"
    }
   ],
   "source": [
    "IGBig = E0 - 0.5*(EBig+EBigRest)\n",
    "IGBig"
   ]
  },
  {
   "cell_type": "code",
   "execution_count": 572,
   "id": "64c6a06a",
   "metadata": {},
   "outputs": [
    {
     "data": {
      "text/plain": [
       "4.0"
      ]
     },
     "execution_count": 572,
     "metadata": {},
     "output_type": "execute_result"
    }
   ],
   "source": [
    "BlueonesAndY1=np.zeros((color.size,1))\n",
    "for i in range(0,y.size) :\n",
    "    if (color[i] == 'Blue') & (y[i]=='Mobug'):\n",
    "       BlueonesAndY1[i] = 1\n",
    "BlueonesAndY1Sum = BlueonesAndY1.sum()\n",
    "BlueonesAndY1Sum"
   ]
  },
  {
   "cell_type": "code",
   "execution_count": 573,
   "id": "845d444b",
   "metadata": {},
   "outputs": [
    {
     "data": {
      "text/plain": [
       "2.0"
      ]
     },
     "execution_count": 573,
     "metadata": {},
     "output_type": "execute_result"
    }
   ],
   "source": [
    "GreenonesAndY1=np.zeros((color.size,1))\n",
    "for i in range(0,y.size) :\n",
    "    if (color[i] == 'Green') & (y[i]=='Mobug'):\n",
    "       GreenonesAndY1[i] = 1\n",
    "GreenonesAndY1Sum = GreenonesAndY1.sum()\n",
    "GreenonesAndY1Sum"
   ]
  },
  {
   "cell_type": "code",
   "execution_count": 574,
   "id": "d6fccf13",
   "metadata": {},
   "outputs": [
    {
     "data": {
      "text/plain": [
       "6.0"
      ]
     },
     "execution_count": 574,
     "metadata": {},
     "output_type": "execute_result"
    }
   ],
   "source": [
    "GreenonesAndY2=np.zeros((color.size,1))\n",
    "for i in range(0,y.size) :\n",
    "    if (color[i] == 'Green') & (y[i]=='Lobug'):\n",
    "       GreenonesAndY2[i] = 1\n",
    "GreenonesAndY2Sum = GreenonesAndY2.sum()\n",
    "GreenonesAndY2Sum"
   ]
  },
  {
   "cell_type": "code",
   "execution_count": 575,
   "id": "4702b264",
   "metadata": {},
   "outputs": [
    {
     "data": {
      "text/plain": [
       "4.0"
      ]
     },
     "execution_count": 575,
     "metadata": {},
     "output_type": "execute_result"
    }
   ],
   "source": [
    "BrownonesAndY1=np.zeros((color.size,1))\n",
    "for i in range(0,y.size) :\n",
    "    if (color[i] == 'Brown') & (y[i]=='Mobug'):\n",
    "       BrownonesAndY1[i] = 1\n",
    "BrownonesAndY1Sum = BrownonesAndY1.sum()\n",
    "BrownonesAndY1Sum"
   ]
  },
  {
   "cell_type": "code",
   "execution_count": 576,
   "id": "1092427c",
   "metadata": {},
   "outputs": [
    {
     "data": {
      "text/plain": [
       "2.0"
      ]
     },
     "execution_count": 576,
     "metadata": {},
     "output_type": "execute_result"
    }
   ],
   "source": [
    "BrownonesAndY2=np.zeros((color.size,1))\n",
    "for i in range(0,y.size) :\n",
    "    if (color[i] == 'Brown') & (y[i]=='Lobug'):\n",
    "       BrownonesAndY2[i] = 1\n",
    "BrownonesAndY2Sum = BrownonesAndY2.sum()\n",
    "BrownonesAndY2Sum"
   ]
  },
  {
   "cell_type": "code",
   "execution_count": null,
   "id": "f8f6b2bc",
   "metadata": {},
   "outputs": [],
   "source": []
  },
  {
   "cell_type": "code",
   "execution_count": null,
   "id": "b8b4dca8",
   "metadata": {},
   "outputs": [],
   "source": []
  }
 ],
 "metadata": {
  "kernelspec": {
   "display_name": "Python 3",
   "language": "python",
   "name": "python3"
  },
  "language_info": {
   "codemirror_mode": {
    "name": "ipython",
    "version": 3
   },
   "file_extension": ".py",
   "mimetype": "text/x-python",
   "name": "python",
   "nbconvert_exporter": "python",
   "pygments_lexer": "ipython3",
   "version": "3.8.8"
  }
 },
 "nbformat": 4,
 "nbformat_minor": 5
}
